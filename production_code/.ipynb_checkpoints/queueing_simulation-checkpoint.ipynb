{
 "cells": [
  {
   "cell_type": "code",
   "execution_count": 1,
   "metadata": {
    "collapsed": false
   },
   "outputs": [],
   "source": [
    "import datetime\n",
    "from threading import Thread\n",
    "import random\n",
    "import math\n",
    "from queue  import Queue\n",
    "import pandas as pd \n",
    "import warnings\n",
    "import time\n",
    "import trie as trie\n",
    "import pickle\n",
    "import matplotlib.pyplot as plt\n",
    "import copy\n",
    "import matplotlib.ticker as ticker\n",
    "from sklearn.model_selection import KFold\n",
    "import numpy as np\n",
    "import pandas as pd\n",
    "from sklearn.utils import shuffle\n",
    "from scipy import spatial\n",
    "import matplotlib.pyplot as plt\n",
    "\n",
    "import SatadishaModule_final_trie as phase1\n",
    "\n",
    "# import phase2_Trie_baseline_reintroduction_effectiveness as phase2\n",
    "import phase2_Trie_baseline_reintroduction_efficiency as phase2\n",
    "# import phase2_Trie_just_reintroduction as phase2 #just reintroduction, eviction without experimental result computation\n",
    "# import phase2_Trie_just_reintroduction_alternate as phase2 # testing reintroduction with various thresholds in unified framework\n",
    "# import phase2_Trie_reintroduction as phase2\n",
    "# import phase2_Trie_just_eviction_alternate as phase2 # testing eviction with various thresholds in unified framework\n",
    "\n",
    "# from sklearn.decomposition import PCA as sklearnPCA\n",
    "# from sklearn.discriminant_analysis import LinearDiscriminantAnalysis as LDA\n",
    "import scipy\n",
    "import scipy.stats as st\n",
    "import os\n",
    "import sys"
   ]
  },
  {
   "cell_type": "code",
   "execution_count": 2,
   "metadata": {
    "collapsed": false
   },
   "outputs": [
    {
     "name": "stdout",
     "output_type": "stream",
     "text": [
      "25927\n",
      "['ID', 'HashTags', 'TweetIDs', 'Time', 'TweetText', 'User']\n"
     ]
    }
   ],
   "source": [
    "tweets=pd.read_csv(\"/home/satadisha/Desktop/GitProjects/data/jimJordanKnew.csv\",sep =',')\n",
    "\n",
    "# tweets=pd.read_csv(\"/home/satadisha/Desktop/GitProjects/data/tweets_1million_for_others.csv\",sep =',')\n",
    "# tweets=tweets[['ID', 'HashTags', 'Tweet IDs', 'Time', 'TweetText', 'User']]\n",
    "\n",
    "print(len(tweets))\n",
    "tweets['Time'] =  pd.to_datetime(tweets['Time'])\n",
    "tweets = tweets.sort_values(by='Time',ascending=True)\n",
    "# tweets=tweets[tweets.Time.notnull()][50000:]\n",
    "\n",
    "print(list(tweets.columns.values))"
   ]
  },
  {
   "cell_type": "code",
   "execution_count": 72,
   "metadata": {
    "collapsed": false
   },
   "outputs": [
    {
     "name": "stdout",
     "output_type": "stream",
     "text": [
      "          ID                           HashTags      TweetIDs  \\\n",
      "738      739                                NaN  1.192870e+18   \n",
      "233      234                                NaN  1.192868e+18   \n",
      "8769    8770                          GymJordan  1.192889e+18   \n",
      "8751    8752                                NaN  1.192889e+18   \n",
      "8755    8756                                NaN  1.192889e+18   \n",
      "8705    8706                                NaN  1.192889e+18   \n",
      "8673    8674                                NaN  1.192889e+18   \n",
      "8667    8668  JimJordan, JimJordanKnew, RapeBoy  1.192889e+18   \n",
      "8649    8650                                NaN  1.192889e+18   \n",
      "8622    8623                                NaN  1.192889e+18   \n",
      "8618    8619                                NaN  1.192889e+18   \n",
      "17960  17961                                NaN  1.192920e+18   \n",
      "8551    8552                                NaN  1.192888e+18   \n",
      "8530    8531                                NaN  1.192888e+18   \n",
      "8520    8521                      JimJordanKnew  1.192888e+18   \n",
      "8421    8422                                NaN  1.192888e+18   \n",
      "24783  24784           HumanScum, JimJordanKnew  1.192952e+18   \n",
      "24365  24366           JimJordanKnew, GymJordan  1.192949e+18   \n",
      "24935  24936     JimJordanKnew, JimJordanResign  1.192953e+18   \n",
      "8719    8720   JimJordanKnew, PatternOfBehavior  1.192889e+18   \n",
      "23136  23137       JimJordanKnew, SexualAssault  1.192942e+18   \n",
      "8350    8351                   TrumpIsACriminal  1.192888e+18   \n",
      "20386  20387                                NaN  1.192929e+18   \n",
      "20120  20121                                NaN  1.192929e+18   \n",
      "20066  20067                                NaN  1.192928e+18   \n",
      "19913  19914                                NaN  1.192928e+18   \n",
      "21443  21444                                NaN  1.192934e+18   \n",
      "22555  22556                      JimJordanKnew  1.192939e+18   \n",
      "16718  16719                                NaN  1.192915e+18   \n",
      "2367    2368                                NaN  1.192874e+18   \n",
      "...      ...                                ...           ...   \n",
      "11718  11719               GymJordan, JimJordan  1.192898e+18   \n",
      "5140    5141               GymJordan, JimJordan  1.192880e+18   \n",
      "20778  20779               GymJordan, JimJordan  1.192931e+18   \n",
      "2162    2163               GymJordan, JimJordan  1.192874e+18   \n",
      "20766  20767               GymJordan, JimJordan  1.192931e+18   \n",
      "1552    1553               GymJordan, JimJordan  1.192873e+18   \n",
      "11479  11480               GymJordan, JimJordan  1.192897e+18   \n",
      "21731  21732               GymJordan, JimJordan  1.192935e+18   \n",
      "20711  20712               GymJordan, JimJordan  1.192931e+18   \n",
      "5030    5031               GymJordan, JimJordan  1.192880e+18   \n",
      "5001    5002               GymJordan, JimJordan  1.192880e+18   \n",
      "260      261               GymJordan, JimJordan  1.192869e+18   \n",
      "14657  14658               GymJordan, JimJordan  1.192908e+18   \n",
      "14708  14709               GymJordan, JimJordan  1.192908e+18   \n",
      "13675  13676               GymJordan, JimJordan  1.192905e+18   \n",
      "6381    6382               GymJordan, JimJordan  1.192883e+18   \n",
      "12651  12652               GymJordan, JimJordan  1.192901e+18   \n",
      "3326    3327               GymJordan, JimJordan  1.192876e+18   \n",
      "7952    7953               GymJordan, JimJordan  1.192887e+18   \n",
      "16788  16789               GymJordan, JimJordan  1.192915e+18   \n",
      "7913    7914               GymJordan, JimJordan  1.192887e+18   \n",
      "2937    2938               GymJordan, JimJordan  1.192876e+18   \n",
      "7512    7513               GymJordan, JimJordan  1.192886e+18   \n",
      "2945    2946               GymJordan, JimJordan  1.192876e+18   \n",
      "9657    9658               GymJordan, JimJordan  1.192892e+18   \n",
      "18391  18392               GymJordan, JimJordan  1.192921e+18   \n",
      "62        63               GymJordan, JimJordan  1.192868e+18   \n",
      "19119  19120               GymJordan, JimJordan  1.192924e+18   \n",
      "16505  16506               GymJordan, JimJordan  1.192914e+18   \n",
      "9379    9380               GymJordan, JimJordan  1.192891e+18   \n",
      "\n",
      "                     Time                                          TweetText  \\\n",
      "738   2018-08-02 20:08:50  25 years ago, wrestlers at OSU thought their c...   \n",
      "233   2018-08-02 20:08:50  25 years ago, wrestlers at OSU thought their c...   \n",
      "8769  2018-08-12 06:55:53  This guy needs to resign already. Rep. Jim Jor...   \n",
      "8751  2018-08-20 21:53:28  @Jim_Jordan @POTUS @ICEgov No, they want to fi...   \n",
      "8755  2018-08-22 17:36:45  @Jim_Jordan You're right. When is enough, enou...   \n",
      "8705  2018-10-26 06:02:26  @Jim_Jordan All Gym Jordan does is order inves...   \n",
      "8673  2019-01-15 22:56:08  @MichaelAvenatti @Jim_Jordan @StormyDaniels An...   \n",
      "8667  2019-01-30 00:29:37  @Jim_Jordan How about confessing your crimes a...   \n",
      "8649  2019-01-30 20:10:00  Jim Jordan\\n\\nHow is this guy still in office ...   \n",
      "8622  2019-01-31 19:24:39  Can we all agree that the dirtbag coach who wa...   \n",
      "8618  2019-02-01 13:16:26  Jim Jordan\\n\\nStill talking in Congress despit...   \n",
      "17960 2019-02-09 07:50:06  @OutlierShME @MtuellJudy @Meaniebaby21 @EdReds...   \n",
      "8551  2019-07-24 22:43:18  Do you think Jim Jordan chewed so feverishly a...   \n",
      "8530  2019-07-25 16:23:02  Let's elect more women in #2020!! \\n@Jim_Jorda...   \n",
      "8520  2019-07-30 13:34:26  @jakeny99 @kendallybrown #JimJordanKnew. He sh...   \n",
      "8421  2019-09-30 02:45:58  This man also “didn’t have any problem” knowin...   \n",
      "24783 2019-11-07 21:54:56  @kylegriffin1 Jim Jordan is Trumps definition ...   \n",
      "24365 2019-11-08 02:22:49  Why isn’t Congress investigating ⁦@Jim_Jordan⁩...   \n",
      "24935 2019-11-08 04:00:18  As we all already knew about disgusting lech @...   \n",
      "8719  2019-11-08 04:07:58  @NBCNews #JimJordanKnew and HE DID NOTHING to ...   \n",
      "23136 2019-11-08 04:09:54  @DougWise9 @Brimshack #JimJordanKnew about #Se...   \n",
      "8350  2019-11-08 04:12:52  Hey @Jim_Jordan no wonder you get along with D...   \n",
      "20386 2019-11-08 05:07:03  Coach Peeper liked to watch. Why would he repo...   \n",
      "20120 2019-11-08 05:07:03  Coach Peeper liked to watch. Why would he repo...   \n",
      "20066 2019-11-08 05:07:03  Coach Peeper liked to watch. Why would he repo...   \n",
      "19913 2019-11-08 05:07:03  Coach Peeper liked to watch. Why would he repo...   \n",
      "21443 2019-11-08 05:07:03  Coach Peeper liked to watch. Why would he repo...   \n",
      "22555 2019-11-08 06:48:31  @peaceandteachin @CharlotteRawl12 #JimJordanKn...   \n",
      "16718 2019-11-08 09:54:36  Referee says he told Rep. Jim Jordan that Ohio...   \n",
      "2367  2019-11-08 09:54:36  Referee says he told Rep. Jim Jordan that Ohio...   \n",
      "...                   ...                                                ...   \n",
      "11718 2019-11-08 10:57:53  Trump shill, Rep. Jim Jordan, covered up for a...   \n",
      "5140  2019-11-08 10:57:53  Trump shill, Rep. Jim Jordan, covered up for a...   \n",
      "20778 2019-11-08 10:57:53  Trump shill, Rep. Jim Jordan, covered up for a...   \n",
      "2162  2019-11-08 10:57:53  Trump shill, Rep. Jim Jordan, covered up for a...   \n",
      "20766 2019-11-08 10:57:53  Trump shill, Rep. Jim Jordan, covered up for a...   \n",
      "1552  2019-11-08 10:57:53  Trump shill, Rep. Jim Jordan, covered up for a...   \n",
      "11479 2019-11-08 10:57:53  Trump shill, Rep. Jim Jordan, covered up for a...   \n",
      "21731 2019-11-08 10:57:53  Trump shill, Rep. Jim Jordan, covered up for a...   \n",
      "20711 2019-11-08 10:57:53  Trump shill, Rep. Jim Jordan, covered up for a...   \n",
      "5030  2019-11-08 10:57:53  Trump shill, Rep. Jim Jordan, covered up for a...   \n",
      "5001  2019-11-08 10:57:53  Trump shill, Rep. Jim Jordan, covered up for a...   \n",
      "260   2019-11-08 10:57:53  Trump shill, Rep. Jim Jordan, covered up for a...   \n",
      "14657 2019-11-08 10:57:53  Trump shill, Rep. Jim Jordan, covered up for a...   \n",
      "14708 2019-11-08 10:57:53  Trump shill, Rep. Jim Jordan, covered up for a...   \n",
      "13675 2019-11-08 10:57:53  Trump shill, Rep. Jim Jordan, covered up for a...   \n",
      "6381  2019-11-08 10:57:53  Trump shill, Rep. Jim Jordan, covered up for a...   \n",
      "12651 2019-11-08 10:57:53  Trump shill, Rep. Jim Jordan, covered up for a...   \n",
      "3326  2019-11-08 10:57:53  Trump shill, Rep. Jim Jordan, covered up for a...   \n",
      "7952  2019-11-08 10:57:53  Trump shill, Rep. Jim Jordan, covered up for a...   \n",
      "16788 2019-11-08 10:57:53  Trump shill, Rep. Jim Jordan, covered up for a...   \n",
      "7913  2019-11-08 10:57:53  Trump shill, Rep. Jim Jordan, covered up for a...   \n",
      "2937  2019-11-08 10:57:53  Trump shill, Rep. Jim Jordan, covered up for a...   \n",
      "7512  2019-11-08 10:57:53  Trump shill, Rep. Jim Jordan, covered up for a...   \n",
      "2945  2019-11-08 10:57:53  Trump shill, Rep. Jim Jordan, covered up for a...   \n",
      "9657  2019-11-08 10:57:53  Trump shill, Rep. Jim Jordan, covered up for a...   \n",
      "18391 2019-11-08 10:57:53  Trump shill, Rep. Jim Jordan, covered up for a...   \n",
      "62    2019-11-08 10:57:53  Trump shill, Rep. Jim Jordan, covered up for a...   \n",
      "19119 2019-11-08 10:57:53  Trump shill, Rep. Jim Jordan, covered up for a...   \n",
      "16505 2019-11-08 10:57:53  Trump shill, Rep. Jim Jordan, covered up for a...   \n",
      "9379  2019-11-08 10:57:53  Trump shill, Rep. Jim Jordan, covered up for a...   \n",
      "\n",
      "                  User  \n",
      "738      Randy12967819  \n",
      "233     marian_steffen  \n",
      "8769      lmnopGregory  \n",
      "8751      lmnopGregory  \n",
      "8755      lmnopGregory  \n",
      "8705      lmnopGregory  \n",
      "8673      lmnopGregory  \n",
      "8667      lmnopGregory  \n",
      "8649      lmnopGregory  \n",
      "8622      lmnopGregory  \n",
      "8618      lmnopGregory  \n",
      "17960      OutlierShME  \n",
      "8551      lmnopGregory  \n",
      "8530      lmnopGregory  \n",
      "8520      lmnopGregory  \n",
      "8421      lmnopGregory  \n",
      "24783      tweets_debs  \n",
      "24365     LOCKHIMUPUSA  \n",
      "24935     brainboomr22  \n",
      "8719   Jennife65814634  \n",
      "23136   aerodogg13_tim  \n",
      "8350      LOCKHIMUPUSA  \n",
      "20386      time4sanity  \n",
      "20120        jbsmith22  \n",
      "20066    cherokeesher2  \n",
      "19913         2B4USAll  \n",
      "21443   BfloBuckeyefan  \n",
      "22555  peaceandteachin  \n",
      "16718      Dee26557409  \n",
      "2367       C2_ShiningC  \n",
      "...                ...  \n",
      "11718  SunshineMilonga  \n",
      "5140      sweetusdiane  \n",
      "20778        TrumpFeet  \n",
      "2162          dinahger  \n",
      "20766           ikabas  \n",
      "1552          griffbos  \n",
      "11479           rsviar  \n",
      "21731  feldman79596287  \n",
      "20711      TinaTrogers  \n",
      "5030      backpackerSO  \n",
      "5001          muses220  \n",
      "260        Maggie4NoH8  \n",
      "14657     anoneemouse5  \n",
      "14708   JeralynnDuncan  \n",
      "13675   linda_lindylou  \n",
      "6381        firefox_53  \n",
      "12651      kg_franklin  \n",
      "3326        DJWalker10  \n",
      "7952      LOCKHIMUPUSA  \n",
      "16788       retiredrn5  \n",
      "7913      lmnopGregory  \n",
      "2937       Queenofpdx2  \n",
      "7512         lmadmamta  \n",
      "2945         denton310  \n",
      "9657       Dee26557409  \n",
      "18391   taisha_natasha  \n",
      "62     DssdentAggrssor  \n",
      "19119    newyorknewart  \n",
      "16505   PaulaG62877024  \n",
      "9379     RachelJ011032  \n",
      "\n",
      "[100 rows x 6 columns]\n"
     ]
    }
   ],
   "source": [
    "# print(tweets.head(100))"
   ]
  },
  {
   "cell_type": "code",
   "execution_count": 76,
   "metadata": {
    "collapsed": false
   },
   "outputs": [
    {
     "name": "stdout",
     "output_type": "stream",
     "text": [
      "25927 500\n",
      "[numpy.datetime64('2019-11-08T12:36:23.000000000'), numpy.datetime64('2019-11-08T12:47:24.000000000'), numpy.datetime64('2019-11-08T13:14:56.000000000'), numpy.datetime64('2019-11-08T13:26:00.000000000'), numpy.datetime64('2019-11-08T13:29:05.000000000'), numpy.datetime64('2019-11-08T13:41:05.000000000'), numpy.datetime64('2019-11-08T13:41:05.000000000'), numpy.datetime64('2019-11-08T13:41:05.000000000'), numpy.datetime64('2019-11-08T13:41:05.000000000'), numpy.datetime64('2019-11-08T13:47:12.000000000')]\n",
      "661000000000 nanoseconds\n"
     ]
    }
   ],
   "source": [
    "length=len(tweets)\n",
    "batch_size=500\n",
    "print(length,batch_size)\n",
    "batch_epoch=[]\n",
    "\n",
    "for g, tweet_batch in tweets.groupby(np.arange(length) //batch_size):\n",
    "\tbatch_epoch.append(tweet_batch['Time'].values[-1])\n",
    "# \tprint(tweet_batch['Time'].values[-1])\n",
    "print(batch_epoch[:10])\n",
    "\n",
    "print(batch_epoch[1]-batch_epoch[0])\n",
    "epoch_diff=[(t - s)/np.timedelta64(1, 's') for s, t in zip(batch_epoch[:-1], batch_epoch[1:])]"
   ]
  },
  {
   "cell_type": "code",
   "execution_count": 77,
   "metadata": {
    "collapsed": false
   },
   "outputs": [
    {
     "name": "stdout",
     "output_type": "stream",
     "text": [
      "52 51\n",
      "661.0\n"
     ]
    }
   ],
   "source": [
    "print(len(batch_epoch),len(epoch_diff))\n",
    "print(epoch_diff[0])"
   ]
  },
  {
   "cell_type": "code",
   "execution_count": 78,
   "metadata": {
    "collapsed": false
   },
   "outputs": [
    {
     "name": "stdout",
     "output_type": "stream",
     "text": [
      "[661.0, 1652.0, 664.0, 185.0, 720.0, 0.0, 0.0, 0.0, 367.0, 1244.0, 1504.0, 0.0, 109.0, 967.0, 297.0, 551.0, 0.0, 69.0, 0.0, 0.0, 0.0, 0.0, 0.0, 493.0, 232.0, 0.0, 0.0, 330.0, 1160.0, 0.0, 482.0, 0.0, 889.0, 1183.0, 1324.0, 2040.0, 2253.0, 1230.0, 371.0, 1083.0, 1215.0, 460.0, 1758.0, 949.0, 2312.0, 1367.0, 889.0, 2136.0, 1107.0, 3511.0, 3809.0]\n"
     ]
    }
   ],
   "source": [
    "#inter arrival times\n",
    "print(epoch_diff)"
   ]
  },
  {
   "cell_type": "code",
   "execution_count": 79,
   "metadata": {
    "collapsed": false
   },
   "outputs": [
    {
     "name": "stdout",
     "output_type": "stream",
     "text": [
      "3809.0 0.0\n"
     ]
    }
   ],
   "source": [
    "# import seaborn as sns\n",
    "# width=0.01\n",
    "width=1.0\n",
    "print(max(epoch_diff),min(epoch_diff))\n",
    "bins=int((max(epoch_diff)-min(epoch_diff))/width)\n",
    "\n",
    "# width2=1.0\n",
    "width2=1.0\n",
    "bins2=int((max(epoch_diff)-min(epoch_diff))/width2)\n",
    "\n",
    "# plt.hist(epoch_diff, color = 'blue', edgecolor = 'black', bins = bins)\n",
    "# # sns.distplot(epoch_diff, hist=True, #kde=True, \n",
    "# #              bins=bins, color = 'darkblue', \n",
    "# #              hist_kws={'edgecolor':'black'},\n",
    "# #              kde_kws={'linewidth': 4})\n",
    "\n",
    "# plt.title('Histogram of Inter-Arrival Time between Tweet Batches')\n",
    "# plt.xlabel('Inter-Arrival Time in seconds')\n",
    "# plt.ylabel('Frequency')\n",
    "\n",
    "# plt.show()"
   ]
  },
  {
   "cell_type": "code",
   "execution_count": 46,
   "metadata": {
    "collapsed": false
   },
   "outputs": [
    {
     "data": {
      "image/png": "[encoded data removed]",
      "text/plain": [
       "<Figure size 432x288 with 2 Axes>"
      ]
     },
     "metadata": {},
     "output_type": "display_data"
    }
   ],
   "source": [
    "f, (axl, axr) = plt.subplots(1, 2, sharey=False)\n",
    "\n",
    "# plot the same data on both axes\n",
    "axl.hist(epoch_diff, bins)\n",
    "axr.hist(epoch_diff, bins2)\n",
    "\n",
    "# zoom-in / limit the view to different portions of the data\n",
    "# axl.set_xlim(0.0, 1.0, 0.1) # outliers only\n",
    "# axl.set_ylim(0, 70, 10)\n",
    "axl.set_xlim(0.0, 500.0, 100.0) # outliers only\n",
    "axl.set_ylim(0, 30, 5.0)\n",
    "\n",
    "# axr.set_xlim(1.12, 10.0, 1.0)  # most of the data\n",
    "# axr.set_ylim(0.0, 20.0, 5.0)\n",
    "\n",
    "axr.set_xlim(10000, 26000, 5000)  # most of the data\n",
    "axr.set_ylim(0.0, 3.0, 0.5)\n",
    "\n",
    "\n",
    "# hide the spines between axl and axr\n",
    "axl.spines['right'].set_visible(False)\n",
    "axr.spines['left'].set_visible(False)\n",
    "\n",
    "axl.yaxis.set_ticks_position(\"left\")\n",
    "axl.yaxis.tick_left()\n",
    "\n",
    "\n",
    "axr.yaxis.set_ticks_position(\"right\")\n",
    "axr.yaxis.tick_right()\n",
    "\n",
    "# axl.set_xlabel('Inter-Arrival Time in seconds')\n",
    "axl.set_ylabel('Frequency')\n",
    "axr.set_ylabel('Frequency')\n",
    "axr.yaxis.set_label_position(\"right\")\n",
    "# How much space to leave between plots\n",
    "plt.subplots_adjust(wspace=0.15)\n",
    "plt.xlabel('Inter-Arrival Time in seconds')\n",
    "plt.title('Histogram of Inter-Arrival Time between Tweet Batches')\n",
    "\n",
    "\n",
    "plt.show()"
   ]
  },
  {
   "cell_type": "code",
   "execution_count": 36,
   "metadata": {
    "collapsed": false
   },
   "outputs": [
    {
     "data": {
      "text/plain": [
       "[(0.201, 0.302], (0.302, 0.402], (0.201, 0.302], (-0.00714, 0.101], (0.201, 0.302], ..., (0.101, 0.201], (0.201, 0.302], (0.201, 0.302], (0.302, 0.402], (0.402, 0.503]]\n",
       "Length: 196\n",
       "Categories (71, object): [(-0.00714, 0.101] < (0.101, 0.201] < (0.201, 0.302] < (0.302, 0.402] ... (6.734, 6.834] < (6.834, 6.935] < (6.935, 7.0353] < (7.0353, 7.136]]"
      ]
     },
     "execution_count": 36,
     "metadata": {},
     "output_type": "execute_result"
    }
   ],
   "source": [
    "pd.cut(np.array(epoch_diff), bins)"
   ]
  },
  {
   "cell_type": "code",
   "execution_count": 80,
   "metadata": {
    "collapsed": false
   },
   "outputs": [
    {
     "name": "stdout",
     "output_type": "stream",
     "text": [
      "[14  0  0  0  0  0  0  0  0  0  0  0  0  0  0  0  0  0  0  0  0  0  0  0\n",
      "  0  0  0  0  0  0  0  0  0  0  0  0  0  0  0  0  0  0  0  0  0  0  0  0\n",
      "  0  0  0  0  0  0  0  0  0  0  0  0  0  0  0  0  0  0  0  0  0  1  0  0\n",
      "  0  0  0  0  0  0  0  0  0  0  0  0  0  0  0  0  0  0  0  0  0  0  0  0\n",
      "  0  0  0  0  0  0  0  0  0  0  0  0  0  1  0  0  0  0  0  0  0  0  0  0\n",
      "  0  0  0  0  0  0  0  0  0  0  0  0  0  0  0  0  0  0  0  0  0  0  0  0\n",
      "  0  0  0  0  0  0]\n",
      "[0 0 0 0 0 0 0 0 0 0 0 0 0 0 0 0 0 0 0 0 0 0 0 0 0 0 0 0 0 0 0 0 0 0 0 1 0\n",
      " 0 0 0 0 0 0 0 0 0 0 0 0 0 0 0 0 0 0 0 0 0 0 0 0 0 0 0 0 0 0 0 0 0 0 0 0 0\n",
      " 0 0 0 0 0 0 0 0 1 0 0 0 0 0 0 0 0 0 0 0 0 0 0 0 0 0]\n"
     ]
    }
   ],
   "source": [
    "hist, bins = np.histogram(epoch_diff, bins)\n",
    "print(hist[:150])\n",
    "print(hist[150:250])\n",
    "# print(bins)"
   ]
  },
  {
   "cell_type": "code",
   "execution_count": 81,
   "metadata": {
    "collapsed": false
   },
   "outputs": [],
   "source": [
    "# hist2, bins2 = np.histogram(epoch_diff, bins2)\n",
    "# print(hist2)\n",
    "# print(bins2)"
   ]
  },
  {
   "cell_type": "code",
   "execution_count": 82,
   "metadata": {
    "collapsed": false
   },
   "outputs": [
    {
     "name": "stdout",
     "output_type": "stream",
     "text": [
      "3809.0 0.0\n",
      "[14  0  0 ...  0  0  1]\n",
      "[14  0  0  0  0  0  0  0  0  0  0  0  0  0  0  0  0  0  0  0  0  0  0  0\n",
      "  0  0  0  0  0  0  0  0  0  0  0  0  0  0  0  0  0  0  0  0  0  0  0  0\n",
      "  0  0  0  0  0  0  0  0  0  0  0  0  0  0  0  0  0  0  0  0  0  1  0  0\n",
      "  0  0  0  0  0  0  0  0  0  0  0  0  0  0  0  0  0  0  0  0  0  0  0  0\n",
      "  0  0  0  0  0  0  0  0  0  0  0  0  0  1  0  0  0  0  0  0  0  0  0  0\n",
      "  0  0  0  0  0  0  0  0  0  0  0  0  0  0  0  0  0  0  0  0  0  0  0  0\n",
      "  0  0  0  0  0  0]\n",
      "[0 0 0 0 0 0 0 0 0 0 0 0 0 0 0 0 0 0 0 0 0 0 0 0 0 0 0 0 0 0 0 0 0 0 0 1 0\n",
      " 0 0 0 0 0 0 0 0 0 0 0 0 0 0 0 0 0 0 0 0 0 0 0 0 0 0 0 0 0 0 0 0 0 0 0 0 0\n",
      " 0 0 0 0 0 0 0 0 1 0 0 0 0 0 0 0 0 0 0 0 0 0 0 0 0 0]\n"
     ]
    }
   ],
   "source": [
    "# width=100.0\n",
    "# width=0.01\n",
    "width=1.0\n",
    "print(max(epoch_diff),min(epoch_diff))\n",
    "bins3=int((max(epoch_diff)-min(epoch_diff))/width)\n",
    "\n",
    "hist3, bins3 = np.histogram(epoch_diff, bins3)\n",
    "print(hist3)\n",
    "# print(bins3)\n",
    "print(hist[:150])\n",
    "print(hist[150:250])"
   ]
  },
  {
   "cell_type": "code",
   "execution_count": 83,
   "metadata": {
    "collapsed": false
   },
   "outputs": [],
   "source": [
    "# cumulative_freq=[sum(hist[:(i+1)]) for i in range(len(hist))]\n",
    "# print(cumulative_freq)"
   ]
  },
  {
   "cell_type": "code",
   "execution_count": 84,
   "metadata": {
    "collapsed": false
   },
   "outputs": [],
   "source": [
    "# cumProb=[elem/cumulative_freq[-1] for elem in cumulative_freq]\n",
    "# print(cumProb)"
   ]
  },
  {
   "cell_type": "code",
   "execution_count": 100,
   "metadata": {
    "collapsed": false
   },
   "outputs": [
    {
     "name": "stdout",
     "output_type": "stream",
     "text": [
      "(0.0, 815.156862745098)\n"
     ]
    },
    {
     "data": {
      "text/plain": [
       "KstestResult(statistic=0.27450980392156865, pvalue=0.0006896950901381937)"
      ]
     },
     "execution_count": 100,
     "metadata": {},
     "output_type": "execute_result"
    }
   ],
   "source": [
    "dist = st.expon\n",
    "param = dist.fit(epoch_diff)\n",
    "\n",
    "#loc, scale=1/lambda\n",
    "print(param)\n",
    "st.kstest(epoch_diff, dist.cdf, param)"
   ]
  },
  {
   "cell_type": "code",
   "execution_count": 101,
   "metadata": {
    "collapsed": false
   },
   "outputs": [
    {
     "name": "stdout",
     "output_type": "stream",
     "text": [
      "(0.7030625441746172, -3.4917301462460852e-25, 781.975220563837)\n"
     ]
    },
    {
     "data": {
      "text/plain": [
       "KstestResult(statistic=0.7254901960784313, pvalue=7.729260256228112e-28)"
      ]
     },
     "execution_count": 101,
     "metadata": {},
     "output_type": "execute_result"
    }
   ],
   "source": [
    "dist2 = st.gamma\n",
    "param2 = dist2.fit(epoch_diff)\n",
    "\n",
    "#loc, scale=1/lambda\n",
    "print(param2)\n",
    "st.kstest(epoch_diff, dist2.cdf, param2[:-2])"
   ]
  },
  {
   "cell_type": "code",
   "execution_count": 102,
   "metadata": {
    "collapsed": false
   },
   "outputs": [
    {
     "name": "stdout",
     "output_type": "stream",
     "text": [
      "(0.6659717774114625, 8.119465761775832, -1.7927985418919856e-29, 7136.170159919713)\n"
     ]
    },
    {
     "name": "stderr",
     "output_type": "stream",
     "text": [
      "/usr/local/lib/python3.5/dist-packages/scipy/stats/_continuous_distns.py:515: RuntimeWarning: invalid value encountered in sqrt\n",
      "  sk = 2*(b-a)*np.sqrt(a + b + 1) / (a + b + 2) / np.sqrt(a*b)\n"
     ]
    },
    {
     "data": {
      "text/plain": [
       "KstestResult(statistic=0.7254901960784313, pvalue=7.729260256228112e-28)"
      ]
     },
     "execution_count": 102,
     "metadata": {},
     "output_type": "execute_result"
    }
   ],
   "source": [
    "dist3 = st.beta\n",
    "param3 = dist3.fit(epoch_diff)\n",
    "\n",
    "#loc, scale=1/lambda\n",
    "print(param3)\n",
    "st.kstest(epoch_diff, dist3.cdf, param3[:-2])"
   ]
  },
  {
   "cell_type": "code",
   "execution_count": 103,
   "metadata": {
    "collapsed": false
   },
   "outputs": [
    {
     "name": "stdout",
     "output_type": "stream",
     "text": [
      "(815.156862745098, 883.988562887353)\n"
     ]
    },
    {
     "data": {
      "text/plain": [
       "KstestResult(statistic=0.7254901960784313, pvalue=7.729260256228112e-28)"
      ]
     },
     "execution_count": 103,
     "metadata": {},
     "output_type": "execute_result"
    }
   ],
   "source": [
    "dist4 = st.norm\n",
    "param4 = dist4.fit(epoch_diff)\n",
    "\n",
    "#loc, scale=1/lambda\n",
    "print(param4)\n",
    "st.kstest(epoch_diff, dist4.cdf, param4[:-2])"
   ]
  },
  {
   "cell_type": "code",
   "execution_count": 104,
   "metadata": {
    "collapsed": false
   },
   "outputs": [
    {
     "name": "stdout",
     "output_type": "stream",
     "text": [
      "(0.0, 3809.0)\n"
     ]
    },
    {
     "data": {
      "text/plain": [
       "KstestResult(statistic=0.7254901960784313, pvalue=7.729260256228112e-28)"
      ]
     },
     "execution_count": 104,
     "metadata": {},
     "output_type": "execute_result"
    }
   ],
   "source": [
    "# dist5 = st.uniform\n",
    "# param5 = dist5.fit(epoch_diff)\n",
    "\n",
    "# #loc, scale=1/lambda\n",
    "# print(param5)\n",
    "# st.kstest(epoch_diff, dist5.cdf, param5[:-2])"
   ]
  },
  {
   "cell_type": "code",
   "execution_count": 87,
   "metadata": {
    "collapsed": false
   },
   "outputs": [
    {
     "name": "stdout",
     "output_type": "stream",
     "text": [
      "[36.80273254 36.75761219 36.71254715 ...  0.30878722  0.30840864\n",
      "  0.30803053]\n"
     ]
    }
   ],
   "source": [
    "# size = 30000\n",
    "# x=scipy.arange(start=0.0, stop=8.0, step=0.01)\n",
    "# x=scipy.arange(start=0.0, stop=26000.0, step=1.0)\n",
    "x=scipy.arange(start=0.0, stop=3900.0, step=1.0)\n",
    "pdf_fitted = dist.pdf(x, *param[:-2], loc=param[-2], scale=param[-1]) * size\n",
    "print(pdf_fitted)"
   ]
  },
  {
   "cell_type": "code",
   "execution_count": 107,
   "metadata": {
    "collapsed": false
   },
   "outputs": [
    {
     "data": {
      "image/png": "[encoded data removed]",
      "text/plain": [
       "<Figure size 432x288 with 2 Axes>"
      ]
     },
     "metadata": {},
     "output_type": "display_data"
    }
   ],
   "source": [
    "f, (axl, axr) = plt.subplots(1, 2, sharey=False)\n",
    "\n",
    "# plot the same data on both axes\n",
    "axl.hist(epoch_diff, bins)\n",
    "axl.plot(pdf_fitted,label='fitted')\n",
    "\n",
    "axr.hist(epoch_diff, bins2)\n",
    "axr.plot(pdf_fitted,label='fitted')\n",
    "# zoom-in / limit the view to different portions of the data\n",
    "# axl.set_xlim(0.0, 1.0, 0.1) # outliers only\n",
    "# axl.set_ylim(0.0, 15.0, 1.0)\n",
    "\n",
    "axl.set_xlim(0.0, 150.0, 20.0) # outliers only\n",
    "axl.set_ylim(0, 40, 3.0)\n",
    "\n",
    "# axr.set_xlim(1.12, 10.0, 1.0)  # most of the data\n",
    "# axr.set_ylim(0.0, 15.0, 1.0)\n",
    "\n",
    "axr.set_xlim(3800, 3810, 1.0)  # most of the data\n",
    "axr.set_ylim(0, 40, 3.0)\n",
    "\n",
    "\n",
    "# hide the spines between axl and axr\n",
    "axl.spines['right'].set_visible(False)\n",
    "axr.spines['left'].set_visible(False)\n",
    "\n",
    "axl.yaxis.set_ticks_position(\"left\")\n",
    "axl.yaxis.tick_left()\n",
    "\n",
    "\n",
    "axr.yaxis.set_ticks_position(\"right\")\n",
    "axr.yaxis.tick_right()\n",
    "\n",
    "# axl.set_xlabel('Inter-Arrival Time in seconds')\n",
    "axl.set_ylabel('Frequency')\n",
    "axr.set_ylabel('Frequency')\n",
    "axr.yaxis.set_label_position(\"right\")\n",
    "# How much space to leave between plots\n",
    "plt.subplots_adjust(wspace=0.15)\n",
    "plt.xlabel('Inter-Arrival Time in seconds')\n",
    "plt.title('Histogram of Inter-Arrival Time between Tweet Batches')\n",
    "\n",
    "\n",
    "plt.show()"
   ]
  },
  {
   "cell_type": "code",
   "execution_count": 109,
   "metadata": {
    "collapsed": false
   },
   "outputs": [
    {
     "name": "stdout",
     "output_type": "stream",
     "text": [
      "815.156862745098\n"
     ]
    }
   ],
   "source": [
    "print(st.expon.mean(scale=param[-1]))"
   ]
  },
  {
   "cell_type": "code",
   "execution_count": null,
   "metadata": {
    "collapsed": true
   },
   "outputs": [],
   "source": []
  }
 ],
 "metadata": {
  "kernelspec": {
   "display_name": "Python 3",
   "language": "python",
   "name": "python3"
  },
  "language_info": {
   "codemirror_mode": {
    "name": "ipython",
    "version": 3
   },
   "file_extension": ".py",
   "mimetype": "text/x-python",
   "name": "python",
   "nbconvert_exporter": "python",
   "pygments_lexer": "ipython3",
   "version": "3.5.2"
  }
 },
 "nbformat": 4,
 "nbformat_minor": 1
}
