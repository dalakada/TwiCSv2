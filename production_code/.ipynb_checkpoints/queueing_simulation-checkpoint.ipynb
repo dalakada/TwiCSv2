{
 "cells": [
  {
   "cell_type": "code",
   "execution_count": 11,
   "metadata": {},
   "outputs": [],
   "source": [
    "import datetime\n",
    "from threading import Thread\n",
    "import random\n",
    "import math\n",
    "from queue  import Queue\n",
    "import pandas as pd \n",
    "import warnings\n",
    "import time\n",
    "import trie as trie\n",
    "import pickle\n",
    "import matplotlib.pyplot as plt\n",
    "import copy\n",
    "import matplotlib.ticker as ticker\n",
    "from sklearn.model_selection import KFold\n",
    "import numpy as np\n",
    "import pandas as pd\n",
    "from sklearn.utils import shuffle\n",
    "from scipy import spatial\n",
    "import matplotlib.pyplot as plt\n",
    "\n",
    "import SatadishaModule_final_trie as phase1\n",
    "\n",
    "# import phase2_Trie_baseline_reintroduction_effectiveness as phase2\n",
    "import phase2_Trie_baseline_reintroduction_efficiency as phase2\n",
    "# import phase2_Trie_just_reintroduction as phase2 #just reintroduction, eviction without experimental result computation\n",
    "# import phase2_Trie_just_reintroduction_alternate as phase2 # testing reintroduction with various thresholds in unified framework\n",
    "# import phase2_Trie_reintroduction as phase2\n",
    "# import phase2_Trie_just_eviction_alternate as phase2 # testing eviction with various thresholds in unified framework\n",
    "\n",
    "# from sklearn.decomposition import PCA as sklearnPCA\n",
    "# from sklearn.discriminant_analysis import LinearDiscriminantAnalysis as LDA\n",
    "import scipy\n",
    "import scipy.stats as st\n",
    "import os\n",
    "import sys"
   ]
  },
  {
   "cell_type": "code",
   "execution_count": 12,
   "metadata": {},
   "outputs": [
    {
     "name": "stdout",
     "output_type": "stream",
     "text": [
      "25927\n",
      "# of batches:  52\n",
      "['ID', 'HashTags', 'TweetIDs', 'Time', 'TweetText', 'User']\n"
     ]
    }
   ],
   "source": [
    "# tweets=pd.read_csv(\"/home/satadisha/Desktop/GitProjects/data/jimJordanKnew.csv\",sep =',')\n",
    "tweets=pd.read_csv(\"/Users/satadisha/Documents/GitHub/jimJordanKnew.csv\",sep =',')\n",
    "# tweets=pd.read_csv(\"/home/satadisha/Desktop/GitProjects/data/tweets_1million_for_others.csv\",sep =',')\n",
    "# tweets=tweets[['ID', 'HashTags', 'Tweet IDs', 'Time', 'TweetText', 'User']]\n",
    "\n",
    "print(len(tweets))\n",
    "tweets['Time'] =  pd.to_datetime(tweets['Time'])\n",
    "tweets = tweets.sort_values(by='Time',ascending=True)\n",
    "# tweets=tweets[tweets.Time.notnull()][50000:]\n",
    "length=len(tweets)\n",
    "batch_size=500\n",
    "val=math.ceil(length/batch_size)-1\n",
    "\n",
    "print('# of batches: ',(val+1))\n",
    "max_batch_value=val\n",
    "z_score=-0.1119\n",
    "\n",
    "print(list(tweets.columns.values))"
   ]
  },
  {
   "cell_type": "code",
   "execution_count": 13,
   "metadata": {},
   "outputs": [
    {
     "name": "stdout",
     "output_type": "stream",
     "text": [
      "hello\n"
     ]
    }
   ],
   "source": [
    "# print(tweets.head(100))\n",
    "Phase1= phase1.SatadishaModule()\n",
    "Phase2 = phase2.EntityResolver()"
   ]
  },
  {
   "cell_type": "code",
   "execution_count": 14,
   "metadata": {},
   "outputs": [
    {
     "name": "stdout",
     "output_type": "stream",
     "text": [
      "25927 500\n",
      "Phase I extracting now\n",
      "0\n",
      "ambiguous_candidates_in_batch:  0\n",
      "6 1 0\n",
      "incomplete sentences:  0\n",
      "mentions discovered: 698\n",
      "Phase I extracting now\n",
      "0\n",
      "ambiguous_candidates_in_batch:  0\n",
      "8 1 0\n",
      "incomplete sentences:  0\n",
      "mentions discovered: 735\n",
      "Phase I extracting now\n",
      "0\n",
      "ambiguous_candidates_in_batch:  0\n",
      "10 1 0\n",
      "incomplete sentences:  0\n",
      "mentions discovered: 1528\n",
      "Phase I extracting now\n",
      "0\n",
      "ambiguous_candidates_in_batch:  0\n",
      "11 3 0\n",
      "incomplete sentences:  0\n",
      "mentions discovered: 415\n",
      "Phase I extracting now\n",
      "0\n",
      "ambiguous_candidates_in_batch:  0\n",
      "19 3 0\n",
      "incomplete sentences:  0\n",
      "mentions discovered: 1055\n",
      "Phase I extracting now\n",
      "0\n",
      "ambiguous_candidates_in_batch:  0\n",
      "19 4 1\n",
      "incomplete sentences:  4\n",
      "mentions discovered: 1227\n",
      "Phase I extracting now\n",
      "4\n",
      "ambiguous_candidates_in_batch:  0\n",
      "19 4 1\n",
      "incomplete sentences:  4\n",
      "mentions discovered: 1504\n",
      "Phase I extracting now\n",
      "4\n",
      "ambiguous_candidates_in_batch:  0\n",
      "19 4 1\n",
      "incomplete sentences:  0\n",
      "mentions discovered: 1504\n",
      "Phase I extracting now\n",
      "0\n",
      "ambiguous_candidates_in_batch:  0\n",
      "19 4 1\n",
      "incomplete sentences:  0\n",
      "mentions discovered: 1500\n",
      "Phase I extracting now\n",
      "0\n",
      "ambiguous_candidates_in_batch:  0\n",
      "25 4 1\n",
      "incomplete sentences:  0\n",
      "mentions discovered: 1591\n",
      "Phase I extracting now\n",
      "0\n",
      "ambiguous_candidates_in_batch:  0\n",
      "34 4 1\n",
      "incomplete sentences:  0\n",
      "mentions discovered: 1216\n",
      "Phase I extracting now\n",
      "0\n",
      "ambiguous_candidates_in_batch:  0\n",
      "35 6 2\n",
      "incomplete sentences:  17\n",
      "mentions discovered: 490\n",
      "Phase I extracting now\n",
      "17\n",
      "ambiguous_candidates_in_batch:  0\n",
      "35 6 2\n",
      "incomplete sentences:  17\n",
      "mentions discovered: 1017\n",
      "Phase I extracting now\n",
      "17\n",
      "ambiguous_candidates_in_batch:  0\n",
      "37 6 2\n",
      "incomplete sentences:  0\n",
      "mentions discovered: 991\n",
      "Phase I extracting now\n",
      "0\n",
      "ambiguous_candidates_in_batch:  0\n",
      "37 7 3\n",
      "incomplete sentences:  11\n",
      "mentions discovered: 304\n",
      "Phase I extracting now\n",
      "11\n",
      "ambiguous_candidates_in_batch:  0\n",
      "40 7 3\n",
      "incomplete sentences:  11\n",
      "mentions discovered: 675\n",
      "Phase I extracting now\n",
      "11\n",
      "ambiguous_candidates_in_batch:  0\n",
      "41 9 2\n",
      "incomplete sentences:  0\n",
      "mentions discovered: 1604\n",
      "Phase I extracting now\n",
      "0\n",
      "ambiguous_candidates_in_batch:  0\n",
      "40 10 2\n",
      "incomplete sentences:  0\n",
      "mentions discovered: 2000\n",
      "Phase I extracting now\n",
      "0\n",
      "ambiguous_candidates_in_batch:  0\n",
      "42 10 2\n",
      "incomplete sentences:  0\n",
      "mentions discovered: 2069\n",
      "Phase I extracting now\n",
      "0\n",
      "ambiguous_candidates_in_batch:  0\n",
      "42 10 2\n",
      "incomplete sentences:  0\n",
      "mentions discovered: 2500\n",
      "Phase I extracting now\n",
      "0\n",
      "ambiguous_candidates_in_batch:  0\n",
      "42 10 2\n",
      "incomplete sentences:  0\n",
      "mentions discovered: 2500\n",
      "Phase I extracting now\n",
      "0\n",
      "ambiguous_candidates_in_batch:  0\n",
      "42 10 2\n",
      "incomplete sentences:  0\n",
      "mentions discovered: 2500\n",
      "Phase I extracting now\n",
      "0\n",
      "ambiguous_candidates_in_batch:  0\n",
      "42 10 2\n",
      "incomplete sentences:  0\n",
      "mentions discovered: 2500\n",
      "Phase I extracting now\n",
      "0\n",
      "ambiguous_candidates_in_batch:  0\n",
      "42 10 2\n",
      "incomplete sentences:  0\n",
      "mentions discovered: 2500\n",
      "Phase I extracting now\n",
      "0\n",
      "ambiguous_candidates_in_batch:  0\n",
      "42 10 2\n",
      "incomplete sentences:  2\n",
      "mentions discovered: 1224\n",
      "Phase I extracting now\n",
      "2\n",
      "ambiguous_candidates_in_batch:  0\n",
      "42 10 2\n",
      "incomplete sentences:  2\n",
      "mentions discovered: 1124\n",
      "Phase I extracting now\n",
      "2\n",
      "ambiguous_candidates_in_batch:  0\n",
      "42 10 2\n",
      "incomplete sentences:  0\n",
      "mentions discovered: 1500\n",
      "Phase I extracting now\n",
      "0\n",
      "ambiguous_candidates_in_batch:  0\n",
      "42 10 2\n",
      "incomplete sentences:  0\n",
      "mentions discovered: 1500\n",
      "Phase I extracting now\n",
      "0\n",
      "ambiguous_candidates_in_batch:  0\n",
      "51 10 2\n",
      "incomplete sentences:  0\n",
      "mentions discovered: 1458\n",
      "Phase I extracting now\n",
      "0\n",
      "ambiguous_candidates_in_batch:  0\n",
      "56 12 1\n",
      "incomplete sentences:  0\n",
      "mentions discovered: 648\n",
      "Phase I extracting now\n",
      "0\n",
      "ambiguous_candidates_in_batch:  0\n",
      "56 12 1\n",
      "incomplete sentences:  0\n",
      "mentions discovered: 1000\n",
      "Phase I extracting now\n",
      "0\n",
      "ambiguous_candidates_in_batch:  0\n",
      "57 14 1\n",
      "incomplete sentences:  0\n",
      "mentions discovered: 693\n",
      "Phase I extracting now\n",
      "0\n",
      "ambiguous_candidates_in_batch:  0\n",
      "57 14 1\n",
      "incomplete sentences:  0\n",
      "mentions discovered: 1500\n",
      "Phase I extracting now\n",
      "0\n",
      "ambiguous_candidates_in_batch:  0\n",
      "59 14 1\n",
      "incomplete sentences:  0\n",
      "mentions discovered: 729\n",
      "Phase I extracting now\n",
      "0\n",
      "ambiguous_candidates_in_batch:  0\n",
      "63 14 1\n",
      "incomplete sentences:  0\n",
      "mentions discovered: 1216\n",
      "Phase I extracting now\n",
      "0\n",
      "ambiguous_candidates_in_batch:  0\n",
      "67 14 1\n",
      "incomplete sentences:  0\n",
      "mentions discovered: 689\n",
      "Phase I extracting now\n",
      "0\n",
      "ambiguous_candidates_in_batch:  0\n",
      "70 15 3\n",
      "incomplete sentences:  22\n",
      "mentions discovered: 1861\n",
      "Phase I extracting now\n",
      "22\n",
      "ambiguous_candidates_in_batch:  0\n",
      "81 17 3\n",
      "incomplete sentences:  22\n",
      "mentions discovered: 1184\n",
      "Phase I extracting now\n",
      "22\n",
      "ambiguous_candidates_in_batch:  0\n",
      "86 17 3\n",
      "incomplete sentences:  0\n",
      "mentions discovered: 1070\n",
      "Phase I extracting now\n",
      "0\n",
      "ambiguous_candidates_in_batch:  0\n",
      "88 19 3\n",
      "incomplete sentences:  0\n",
      "mentions discovered: 841\n",
      "Phase I extracting now\n",
      "0\n",
      "ambiguous_candidates_in_batch:  0\n",
      "98 27 4\n",
      "incomplete sentences:  4\n",
      "mentions discovered: 777\n",
      "Phase I extracting now\n",
      "4\n",
      "ambiguous_candidates_in_batch:  0\n",
      "111 35 4\n",
      "incomplete sentences:  7\n",
      "mentions discovered: 835\n",
      "Phase I extracting now\n",
      "7\n",
      "ambiguous_candidates_in_batch:  0\n",
      "116 37 4\n",
      "incomplete sentences:  5\n",
      "mentions discovered: 1129\n",
      "Phase I extracting now\n",
      "5\n",
      "ambiguous_candidates_in_batch:  0\n",
      "117 50 6\n",
      "incomplete sentences:  21\n",
      "mentions discovered: 575\n",
      "Phase I extracting now\n",
      "21\n",
      "ambiguous_candidates_in_batch:  0\n",
      "121 55 6\n",
      "incomplete sentences:  31\n",
      "mentions discovered: 548\n",
      "Phase I extracting now\n",
      "31\n",
      "ambiguous_candidates_in_batch:  0\n",
      "127 68 5\n",
      "incomplete sentences:  12\n",
      "mentions discovered: 459\n",
      "Phase I extracting now\n",
      "12\n",
      "ambiguous_candidates_in_batch:  0\n",
      "130 71 5\n",
      "incomplete sentences:  2\n",
      "mentions discovered: 411\n",
      "Phase I extracting now\n",
      "2\n",
      "ambiguous_candidates_in_batch:  0\n",
      "131 79 5\n",
      "incomplete sentences:  2\n",
      "mentions discovered: 201\n",
      "Phase I extracting now\n",
      "2\n",
      "ambiguous_candidates_in_batch:  0\n",
      "139 90 6\n",
      "incomplete sentences:  10\n",
      "mentions discovered: 625\n",
      "Phase I extracting now\n",
      "10\n",
      "ambiguous_candidates_in_batch:  0\n",
      "139 95 6\n",
      "incomplete sentences:  15\n",
      "mentions discovered: 1311\n",
      "Phase I extracting now\n",
      "15\n",
      "ambiguous_candidates_in_batch:  0\n",
      "143 101 6\n",
      "incomplete sentences:  18\n",
      "mentions discovered: 388\n",
      "Phase I extracting now\n",
      "18\n",
      "ambiguous_candidates_in_batch:  0\n",
      "149 114 5\n",
      "incomplete sentences:  8\n",
      "mentions discovered: 337\n",
      "all_mentions_discovered:  [698, 735, 1528, 415, 1055, 1227, 1504, 1504, 1500, 1591, 1216, 490, 1017, 991, 304, 675, 1604, 2000, 2069, 2500, 2500, 2500, 2500, 2500, 1224, 1124, 1500, 1500, 1458, 648, 1000, 693, 1500, 729, 1216, 689, 1861, 1184, 1070, 841, 777, 835, 1129, 575, 548, 459, 411, 201, 625, 1311, 388, 337]\n",
      "just_converted, non-cumulative: [1368, 1346, 2569, 1788, 1721, 1634, 1500, 1500, 1500, 1593, 1861, 1325, 1000, 1103, 2460, 561, 1077, 2000, 1860, 1500, 1500, 1500, 1500, 1500, 1605, 2000, 2000, 2000, 1705, 1499, 2500, 1839, 2500, 2031, 1508, 1454, 1735, 1469, 2053, 749, 1308, 1446, 1940, 1398, 1653, 1443, 1036, 1295, 1352, 2060, 1324, 1212]\n",
      "evicted, non-cumulative: [0, 0, 0, 0, 0, 0, 0, 4, 0, 0, 0, 0, 0, 17, 0, 0, 10, 0, 0, 0, 0, 0, 0, 0, 0, 0, 2, 0, 0, 0, 0, 0, 0, 0, 0, 0, 0, 0, 22, 0, 0, 0, 2, 1, 0, 15, 12, 0, 0, 0, 9, 4]\n",
      "incomplete [0, 0, 0, 0, 0, 4, 4, 0, 0, 0, 0, 17, 17, 0, 11, 11, 0, 0, 0, 0, 0, 0, 0, 0, 2, 2, 0, 0, 0, 0, 0, 0, 0, 0, 0, 0, 22, 22, 0, 0, 4, 7, 5, 21, 31, 12, 2, 2, 10, 15, 18, 8]\n",
      "[numpy.datetime64('2019-11-08T12:36:23.000000000'), numpy.datetime64('2019-11-08T12:47:24.000000000'), numpy.datetime64('2019-11-08T13:14:56.000000000'), numpy.datetime64('2019-11-08T13:26:00.000000000'), numpy.datetime64('2019-11-08T13:29:05.000000000'), numpy.datetime64('2019-11-08T13:41:05.000000000'), numpy.datetime64('2019-11-08T13:41:05.000000000'), numpy.datetime64('2019-11-08T13:41:05.000000000'), numpy.datetime64('2019-11-08T13:41:05.000000000'), numpy.datetime64('2019-11-08T13:47:12.000000000')]\n",
      "[0.9986221790313721, 1.2431910037994385, 1.7175419330596924, 1.5984530448913574, 1.8271150588989258, 1.77492094039917, 1.872736930847168, 1.9035770893096924, 2.0035550594329834, 1.873042106628418]\n",
      "661000000000 nanoseconds\n"
     ]
    }
   ],
   "source": [
    "length=len(tweets)\n",
    "print(length,batch_size)\n",
    "batch_count=0\n",
    "batch_epoch=[]\n",
    "service_rate=[]\n",
    "\n",
    "for g, tweet_batch in tweets.groupby(np.arange(length) //batch_size):\n",
    "    batch_epoch.append(tweet_batch['Time'].values[-1])\n",
    "# \tbatch_epoch.append(tweet_batch['Time'].values[-1])\n",
    "\n",
    "    #send batch to TwiLIGHT\n",
    "    time_in=time.time()\n",
    "    tuple_of= Phase1.extract(tweet_batch,batch_count)\n",
    "    tweet_base=tuple_of[0]\n",
    "    candidate_base=tuple_of[1]\n",
    "    phase2stopwordList=tuple_of[4]\n",
    "    \n",
    "    reintroduction_threshold_dummy=2\n",
    "    candidate_base_post_Phase2, converted_candidates, complete_tweet_dataframe_grouped_df_sorted,phase2_output_time= Phase2.executor(max_batch_value,tweet_base,candidate_base,phase2stopwordList,z_score,reintroduction_threshold_dummy,tweet_base)\n",
    "    time_out=phase2_output_time\n",
    "    rate=500/(time_out-time_in)\n",
    "    service_rate.append(rate)\n",
    "    batch_count+=1\n",
    "    \n",
    "# \tprint(tweet_batch['Time'].values[-1])\n",
    "print(batch_epoch[:10])\n",
    "print(service_time[:10])\n",
    "\n",
    "print(batch_epoch[1]-batch_epoch[0])\n",
    "epoch_diff=[(t - s)/np.timedelta64(1, 's') for s, t in zip(batch_epoch[:-1], batch_epoch[1:])]"
   ]
  },
  {
   "cell_type": "code",
   "execution_count": 16,
   "metadata": {},
   "outputs": [
    {
     "name": "stdout",
     "output_type": "stream",
     "text": [
      "52 51 52\n",
      "661.0\n",
      "[0.9986221790313721, 1.2431910037994385, 1.7175419330596924, 1.5984530448913574, 1.8271150588989258, 1.77492094039917, 1.872736930847168, 1.9035770893096924, 2.0035550594329834, 1.873042106628418, 1.7503108978271484, 1.2415859699249268, 1.3715190887451172, 1.3897619247436523, 1.8904860019683838, 1.2165770530700684, 1.7485570907592773, 2.2462990283966064, 2.4836997985839844, 2.4895031452178955, 2.3673908710479736, 2.3701000213623047, 2.2901370525360107, 2.2948639392852783, 1.9113779067993164, 1.7082362174987793, 1.9666540622711182, 1.9033381938934326, 2.062299966812134, 1.6686890125274658, 2.1533398628234863, 1.8134911060333252, 1.6799790859222412, 1.8808870315551758, 1.739137887954712, 1.6800260543823242, 2.1649608612060547, 1.788870096206665, 1.660048007965088, 1.3241188526153564, 1.5025200843811035, 1.561906099319458, 1.688971996307373, 1.37111496925354, 1.5817739963531494, 1.4861040115356445, 1.1857199668884277, 1.2630960941314697, 1.67799711227417, 2.2009119987487793, 1.3679070472717285, 1.1957340240478516]\n"
     ]
    }
   ],
   "source": [
    "print(len(batch_epoch),len(epoch_diff),len(service_time))\n",
    "print(epoch_diff[0])\n",
    "print(service_time)"
   ]
  },
  {
   "cell_type": "code",
   "execution_count": 17,
   "metadata": {},
   "outputs": [
    {
     "name": "stdout",
     "output_type": "stream",
     "text": [
      "[661.0, 1652.0, 664.0, 185.0, 720.0, 0.0, 0.0, 0.0, 367.0, 1244.0, 1504.0, 0.0, 109.0, 967.0, 297.0, 551.0, 0.0, 69.0, 0.0, 0.0, 0.0, 0.0, 0.0, 493.0, 232.0, 0.0, 0.0, 330.0, 1160.0, 0.0, 482.0, 0.0, 889.0, 1183.0, 1324.0, 2040.0, 2253.0, 1230.0, 371.0, 1083.0, 1215.0, 460.0, 1758.0, 949.0, 2312.0, 1367.0, 889.0, 2136.0, 1107.0, 3511.0, 3809.0]\n"
     ]
    }
   ],
   "source": [
    "#inter arrival times\n",
    "print(epoch_diff)"
   ]
  },
  {
   "cell_type": "code",
   "execution_count": 18,
   "metadata": {},
   "outputs": [
    {
     "name": "stdout",
     "output_type": "stream",
     "text": [
      "3809.0 0.0\n"
     ]
    }
   ],
   "source": [
    "# import seaborn as sns\n",
    "# width=0.01\n",
    "width=1.0\n",
    "print(max(epoch_diff),min(epoch_diff))\n",
    "bins=int((max(epoch_diff)-min(epoch_diff))/width)\n",
    "\n",
    "# width2=1.0\n",
    "width2=1.0\n",
    "bins2=int((max(epoch_diff)-min(epoch_diff))/width2)\n",
    "\n",
    "# plt.hist(epoch_diff, color = 'blue', edgecolor = 'black', bins = bins)\n",
    "# # sns.distplot(epoch_diff, hist=True, #kde=True, \n",
    "# #              bins=bins, color = 'darkblue', \n",
    "# #              hist_kws={'edgecolor':'black'},\n",
    "# #              kde_kws={'linewidth': 4})\n",
    "\n",
    "# plt.title('Histogram of Inter-Arrival Time between Tweet Batches')\n",
    "# plt.xlabel('Inter-Arrival Time in seconds')\n",
    "# plt.ylabel('Frequency')\n",
    "\n",
    "# plt.show()"
   ]
  },
  {
   "cell_type": "code",
   "execution_count": 46,
   "metadata": {},
   "outputs": [
    {
     "data": {
      "image/png": "[encoded data removed]",
      "text/plain": [
       "<Figure size 432x288 with 2 Axes>"
      ]
     },
     "metadata": {},
     "output_type": "display_data"
    }
   ],
   "source": [
    "f, (axl, axr) = plt.subplots(1, 2, sharey=False)\n",
    "\n",
    "# plot the same data on both axes\n",
    "axl.hist(epoch_diff, bins)\n",
    "axr.hist(epoch_diff, bins2)\n",
    "\n",
    "# zoom-in / limit the view to different portions of the data\n",
    "# axl.set_xlim(0.0, 1.0, 0.1) # outliers only\n",
    "# axl.set_ylim(0, 70, 10)\n",
    "axl.set_xlim(0.0, 500.0, 100.0) # outliers only\n",
    "axl.set_ylim(0, 30, 5.0)\n",
    "\n",
    "# axr.set_xlim(1.12, 10.0, 1.0)  # most of the data\n",
    "# axr.set_ylim(0.0, 20.0, 5.0)\n",
    "\n",
    "axr.set_xlim(10000, 26000, 5000)  # most of the data\n",
    "axr.set_ylim(0.0, 3.0, 0.5)\n",
    "\n",
    "\n",
    "# hide the spines between axl and axr\n",
    "axl.spines['right'].set_visible(False)\n",
    "axr.spines['left'].set_visible(False)\n",
    "\n",
    "axl.yaxis.set_ticks_position(\"left\")\n",
    "axl.yaxis.tick_left()\n",
    "\n",
    "\n",
    "axr.yaxis.set_ticks_position(\"right\")\n",
    "axr.yaxis.tick_right()\n",
    "\n",
    "# axl.set_xlabel('Inter-Arrival Time in seconds')\n",
    "axl.set_ylabel('Frequency')\n",
    "axr.set_ylabel('Frequency')\n",
    "axr.yaxis.set_label_position(\"right\")\n",
    "# How much space to leave between plots\n",
    "plt.subplots_adjust(wspace=0.15)\n",
    "plt.xlabel('Inter-Arrival Time in seconds')\n",
    "plt.title('Histogram of Inter-Arrival Time between Tweet Batches')\n",
    "\n",
    "\n",
    "plt.show()"
   ]
  },
  {
   "cell_type": "code",
   "execution_count": 19,
   "metadata": {},
   "outputs": [
    {
     "data": {
      "text/plain": [
       "[(660.0, 661.0], (1651.0, 1652.0], (663.0, 664.0], (184.0, 185.0], (719.0, 720.0], ..., (888.0, 889.0], (2135.0, 2136.0], (1106.0, 1107.0], (3510.0, 3511.0], (3808.0, 3809.0]]\n",
       "Length: 51\n",
       "Categories (3809, interval[float64]): [(-3.809, 1.0] < (1.0, 2.0] < (2.0, 3.0] < (3.0, 4.0] ... (3805.0, 3806.0] < (3806.0, 3807.0] < (3807.0, 3808.0] < (3808.0, 3809.0]]"
      ]
     },
     "execution_count": 19,
     "metadata": {},
     "output_type": "execute_result"
    }
   ],
   "source": [
    "pd.cut(np.array(epoch_diff), bins)"
   ]
  },
  {
   "cell_type": "code",
   "execution_count": 20,
   "metadata": {},
   "outputs": [
    {
     "name": "stdout",
     "output_type": "stream",
     "text": [
      "[14  0  0  0  0  0  0  0  0  0  0  0  0  0  0  0  0  0  0  0  0  0  0  0\n",
      "  0  0  0  0  0  0  0  0  0  0  0  0  0  0  0  0  0  0  0  0  0  0  0  0\n",
      "  0  0  0  0  0  0  0  0  0  0  0  0  0  0  0  0  0  0  0  0  0  1  0  0\n",
      "  0  0  0  0  0  0  0  0  0  0  0  0  0  0  0  0  0  0  0  0  0  0  0  0\n",
      "  0  0  0  0  0  0  0  0  0  0  0  0  0  1  0  0  0  0  0  0  0  0  0  0\n",
      "  0  0  0  0  0  0  0  0  0  0  0  0  0  0  0  0  0  0  0  0  0  0  0  0\n",
      "  0  0  0  0  0  0]\n",
      "[0 0 0 0 0 0 0 0 0 0 0 0 0 0 0 0 0 0 0 0 0 0 0 0 0 0 0 0 0 0 0 0 0 0 0 1 0\n",
      " 0 0 0 0 0 0 0 0 0 0 0 0 0 0 0 0 0 0 0 0 0 0 0 0 0 0 0 0 0 0 0 0 0 0 0 0 0\n",
      " 0 0 0 0 0 0 0 0 1 0 0 0 0 0 0 0 0 0 0 0 0 0 0 0 0 0]\n"
     ]
    }
   ],
   "source": [
    "hist, bins = np.histogram(epoch_diff, bins)\n",
    "print(hist[:150])\n",
    "print(hist[150:250])\n",
    "# print(bins)"
   ]
  },
  {
   "cell_type": "code",
   "execution_count": 21,
   "metadata": {},
   "outputs": [],
   "source": [
    "# hist2, bins2 = np.histogram(epoch_diff, bins2)\n",
    "# print(hist2)\n",
    "# print(bins2)"
   ]
  },
  {
   "cell_type": "code",
   "execution_count": 22,
   "metadata": {},
   "outputs": [
    {
     "name": "stdout",
     "output_type": "stream",
     "text": [
      "3809.0 0.0\n",
      "[14  0  0 ...  0  0  1]\n",
      "[14  0  0  0  0  0  0  0  0  0  0  0  0  0  0  0  0  0  0  0  0  0  0  0\n",
      "  0  0  0  0  0  0  0  0  0  0  0  0  0  0  0  0  0  0  0  0  0  0  0  0\n",
      "  0  0  0  0  0  0  0  0  0  0  0  0  0  0  0  0  0  0  0  0  0  1  0  0\n",
      "  0  0  0  0  0  0  0  0  0  0  0  0  0  0  0  0  0  0  0  0  0  0  0  0\n",
      "  0  0  0  0  0  0  0  0  0  0  0  0  0  1  0  0  0  0  0  0  0  0  0  0\n",
      "  0  0  0  0  0  0  0  0  0  0  0  0  0  0  0  0  0  0  0  0  0  0  0  0\n",
      "  0  0  0  0  0  0]\n",
      "[0 0 0 0 0 0 0 0 0 0 0 0 0 0 0 0 0 0 0 0 0 0 0 0 0 0 0 0 0 0 0 0 0 0 0 1 0\n",
      " 0 0 0 0 0 0 0 0 0 0 0 0 0 0 0 0 0 0 0 0 0 0 0 0 0 0 0 0 0 0 0 0 0 0 0 0 0\n",
      " 0 0 0 0 0 0 0 0 1 0 0 0 0 0 0 0 0 0 0 0 0 0 0 0 0 0]\n"
     ]
    }
   ],
   "source": [
    "# width=100.0\n",
    "# width=0.01\n",
    "width=1.0\n",
    "print(max(epoch_diff),min(epoch_diff))\n",
    "bins3=int((max(epoch_diff)-min(epoch_diff))/width)\n",
    "\n",
    "hist3, bins3 = np.histogram(epoch_diff, bins3)\n",
    "print(hist3)\n",
    "# print(bins3)\n",
    "print(hist[:150])\n",
    "print(hist[150:250])"
   ]
  },
  {
   "cell_type": "code",
   "execution_count": 23,
   "metadata": {},
   "outputs": [],
   "source": [
    "# cumulative_freq=[sum(hist[:(i+1)]) for i in range(len(hist))]\n",
    "# print(cumulative_freq)"
   ]
  },
  {
   "cell_type": "code",
   "execution_count": 24,
   "metadata": {},
   "outputs": [],
   "source": [
    "# cumProb=[elem/cumulative_freq[-1] for elem in cumulative_freq]\n",
    "# print(cumProb)"
   ]
  },
  {
   "cell_type": "code",
   "execution_count": 25,
   "metadata": {},
   "outputs": [
    {
     "name": "stdout",
     "output_type": "stream",
     "text": [
      "(-5.665222362599571e-12, 815.1566635769223)\n"
     ]
    },
    {
     "data": {
      "text/plain": [
       "KstestResult(statistic=0.2745098039215617, pvalue=0.000689695090138498)"
      ]
     },
     "execution_count": 25,
     "metadata": {},
     "output_type": "execute_result"
    }
   ],
   "source": [
    "dist = st.expon\n",
    "param = dist.fit(epoch_diff)\n",
    "\n",
    "#loc, scale=1/lambda\n",
    "print(param)\n",
    "st.kstest(epoch_diff, dist.cdf, param)"
   ]
  },
  {
   "cell_type": "code",
   "execution_count": 26,
   "metadata": {},
   "outputs": [
    {
     "name": "stdout",
     "output_type": "stream",
     "text": [
      "(0.7030625441746172, -3.4917301462460852e-25, 781.975220563837)\n"
     ]
    },
    {
     "data": {
      "text/plain": [
       "KstestResult(statistic=0.7254901960784313, pvalue=0.0)"
      ]
     },
     "execution_count": 26,
     "metadata": {},
     "output_type": "execute_result"
    }
   ],
   "source": [
    "dist2 = st.gamma\n",
    "param2 = dist2.fit(epoch_diff)\n",
    "\n",
    "#loc, scale=1/lambda\n",
    "print(param2)\n",
    "st.kstest(epoch_diff, dist2.cdf, param2[:-2])"
   ]
  },
  {
   "cell_type": "code",
   "execution_count": 27,
   "metadata": {},
   "outputs": [
    {
     "name": "stdout",
     "output_type": "stream",
     "text": [
      "(0.6659717774114625, 8.119465761775832, -1.7927985418919856e-29, 7136.170159919713)\n"
     ]
    },
    {
     "name": "stderr",
     "output_type": "stream",
     "text": [
      "/Library/Frameworks/Python.framework/Versions/3.5/lib/python3.5/site-packages/scipy/stats/_continuous_distns.py:427: RuntimeWarning: invalid value encountered in sqrt\n",
      "  sk = 2*(b-a)*np.sqrt(a + b + 1) / (a + b + 2) / np.sqrt(a*b)\n"
     ]
    },
    {
     "data": {
      "text/plain": [
       "KstestResult(statistic=0.7254901960784313, pvalue=0.0)"
      ]
     },
     "execution_count": 27,
     "metadata": {},
     "output_type": "execute_result"
    }
   ],
   "source": [
    "dist3 = st.beta\n",
    "param3 = dist3.fit(epoch_diff)\n",
    "\n",
    "#loc, scale=1/lambda\n",
    "print(param3)\n",
    "st.kstest(epoch_diff, dist3.cdf, param3[:-2])"
   ]
  },
  {
   "cell_type": "code",
   "execution_count": 28,
   "metadata": {},
   "outputs": [
    {
     "name": "stdout",
     "output_type": "stream",
     "text": [
      "(815.156862745098, 883.988562887353)\n"
     ]
    },
    {
     "data": {
      "text/plain": [
       "KstestResult(statistic=0.7254901960784313, pvalue=0.0)"
      ]
     },
     "execution_count": 28,
     "metadata": {},
     "output_type": "execute_result"
    }
   ],
   "source": [
    "dist4 = st.norm\n",
    "param4 = dist4.fit(epoch_diff)\n",
    "\n",
    "#loc, scale=1/lambda\n",
    "print(param4)\n",
    "st.kstest(epoch_diff, dist4.cdf, param4[:-2])"
   ]
  },
  {
   "cell_type": "code",
   "execution_count": 29,
   "metadata": {},
   "outputs": [],
   "source": [
    "# dist5 = st.uniform\n",
    "# param5 = dist5.fit(epoch_diff)\n",
    "\n",
    "# #loc, scale=1/lambda\n",
    "# print(param5)\n",
    "# st.kstest(epoch_diff, dist5.cdf, param5[:-2])"
   ]
  },
  {
   "cell_type": "code",
   "execution_count": 31,
   "metadata": {},
   "outputs": [
    {
     "name": "stdout",
     "output_type": "stream",
     "text": [
      "[4.7843564  4.77849075 4.77263229 ... 0.0401423  0.04009309 0.04004393]\n"
     ]
    }
   ],
   "source": [
    "# size = 30000\n",
    "# x=scipy.arange(start=0.0, stop=8.0, step=0.01)\n",
    "# x=scipy.arange(start=0.0, stop=26000.0, step=1.0)\n",
    "x=scipy.arange(start=0.0, stop=3900.0, step=1.0)\n",
    "size=len(x)\n",
    "pdf_fitted = dist.pdf(x, *param[:-2], loc=param[-2], scale=param[-1]) * size\n",
    "print(pdf_fitted)"
   ]
  },
  {
   "cell_type": "code",
   "execution_count": 34,
   "metadata": {},
   "outputs": [
    {
     "data": {
      "image/png": "[encoded data removed]",
      "text/plain": [
       "<matplotlib.figure.Figure at 0x13c4a9780>"
      ]
     },
     "metadata": {
      "needs_background": "light"
     },
     "output_type": "display_data"
    }
   ],
   "source": [
    "f, (axl, axr) = plt.subplots(1, 2, sharey=False)\n",
    "\n",
    "# plot the same data on both axes\n",
    "axl.hist(epoch_diff, bins)\n",
    "axl.plot(pdf_fitted,label='fitted')\n",
    "\n",
    "axr.hist(epoch_diff, bins2)\n",
    "axr.plot(pdf_fitted,label='fitted')\n",
    "# zoom-in / limit the view to different portions of the data\n",
    "# axl.set_xlim(0.0, 1.0, 0.1) # outliers only\n",
    "# axl.set_ylim(0.0, 15.0, 1.0)\n",
    "\n",
    "axl.set_xlim(0.0, 150.0, 20.0) # outliers only\n",
    "axl.set_ylim(0, 10.0, 1.0)\n",
    "\n",
    "# axr.set_xlim(1.12, 10.0, 1.0)  # most of the data\n",
    "# axr.set_ylim(0.0, 15.0, 1.0)\n",
    "\n",
    "axr.set_xlim(3800, 3810, 1.0)  # most of the data\n",
    "axr.set_ylim(0, 10.0, 1.0)\n",
    "\n",
    "\n",
    "# hide the spines between axl and axr\n",
    "axl.spines['right'].set_visible(False)\n",
    "axr.spines['left'].set_visible(False)\n",
    "\n",
    "axl.yaxis.set_ticks_position(\"left\")\n",
    "axl.yaxis.tick_left()\n",
    "\n",
    "\n",
    "axr.yaxis.set_ticks_position(\"right\")\n",
    "axr.yaxis.tick_right()\n",
    "\n",
    "# axl.set_xlabel('Inter-Arrival Time in seconds')\n",
    "axl.set_ylabel('Frequency')\n",
    "axr.set_ylabel('Frequency')\n",
    "axr.yaxis.set_label_position(\"right\")\n",
    "# How much space to leave between plots\n",
    "plt.subplots_adjust(wspace=0.15)\n",
    "plt.xlabel('Inter-Arrival Time in seconds')\n",
    "plt.title('Histogram of Inter-Arrival Time between Tweet Batches')\n",
    "\n",
    "\n",
    "plt.show()"
   ]
  },
  {
   "cell_type": "code",
   "execution_count": 35,
   "metadata": {},
   "outputs": [
    {
     "name": "stdout",
     "output_type": "stream",
     "text": [
      "815.1566635769223\n"
     ]
    }
   ],
   "source": [
    "print(st.expon.mean(scale=param[-1]))"
   ]
  },
  {
   "cell_type": "code",
   "execution_count": 36,
   "metadata": {},
   "outputs": [
    {
     "name": "stdout",
     "output_type": "stream",
     "text": [
      "0.001226758051160352 285.2354699056972 4.300860799556014e-06\n"
     ]
    }
   ],
   "source": [
    "exp_arrival_rate=1/(st.expon.mean(scale=param[-1]))\n",
    "exp_service_rate=sum(service_rate)/len(service_rate)\n",
    "rho=exp_arrival_rate/exp_service_rate\n",
    "\n",
    "print(exp_arrival_rate, exp_service_rate, rho)"
   ]
  },
  {
   "cell_type": "code",
   "execution_count": 37,
   "metadata": {},
   "outputs": [
    {
     "name": "stdout",
     "output_type": "stream",
     "text": [
      "7.539173333633992e-09\n"
     ]
    }
   ],
   "source": [
    "exp_wait_time= rho/(2*exp_arrival_rate*(1-rho))\n",
    "print(exp_wait_time)"
   ]
  },
  {
   "cell_type": "code",
   "execution_count": 41,
   "metadata": {},
   "outputs": [
    {
     "name": "stdout",
     "output_type": "stream",
     "text": [
      "0.0 1.77492094039917\n",
      "0.0 1.872736930847168\n",
      "0.0 1.9035770893096924\n",
      "0.0 1.2415859699249268\n",
      "0.0 1.7485570907592773\n",
      "0.0 2.4836997985839844\n",
      "0.0 2.4895031452178955\n",
      "0.0 2.3673908710479736\n",
      "0.0 2.3701000213623047\n",
      "0.0 2.2901370525360107\n",
      "0.0 1.7082362174987793\n",
      "0.0 1.9666540622711182\n",
      "0.0 1.6686890125274658\n",
      "0.0 1.8134911060333252\n",
      "0.5431231236925312\n"
     ]
    }
   ],
   "source": [
    "expect_wait_time_empirical=0\n",
    "count=0\n",
    "\n",
    "for i in range(len(epoch_diff)):\n",
    "    \n",
    "    if(epoch_diff[i]<service_time[i]):\n",
    "        print(epoch_diff[i],service_time[i])\n",
    "        expect_wait_time_empirical+=(service_time[i]-epoch_diff[i])\n",
    "    count+=1\n",
    "expect_wait_time_empirical=expect_wait_time_empirical/count\n",
    "print(expect_wait_time_empirical)"
   ]
  },
  {
   "cell_type": "code",
   "execution_count": null,
   "metadata": {},
   "outputs": [],
   "source": []
  }
 ],
 "metadata": {
  "kernelspec": {
   "display_name": "Python 3",
   "language": "python",
   "name": "python3"
  },
  "language_info": {
   "codemirror_mode": {
    "name": "ipython",
    "version": 3
   },
   "file_extension": ".py",
   "mimetype": "text/x-python",
   "name": "python",
   "nbconvert_exporter": "python",
   "pygments_lexer": "ipython3",
   "version": "3.5.4"
  }
 },
 "nbformat": 4,
 "nbformat_minor": 1
}
