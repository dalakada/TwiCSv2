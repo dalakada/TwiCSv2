{
 "cells": [
  {
   "cell_type": "code",
   "execution_count": 1,
   "metadata": {
    "collapsed": true
   },
   "outputs": [],
   "source": [
    "import datetime\n",
    "from threading import Thread\n",
    "import random\n",
    "import math\n",
    "from queue  import Queue\n",
    "import pandas as pd \n",
    "import warnings\n",
    "import time\n",
    "import trie as trie\n",
    "import pickle\n",
    "import matplotlib.pyplot as plt\n",
    "import copy\n",
    "import matplotlib.ticker as ticker\n",
    "from sklearn.model_selection import KFold\n",
    "import numpy as np\n",
    "import pandas as pd\n",
    "from sklearn.utils import shuffle\n",
    "from scipy import spatial\n",
    "import matplotlib.pyplot as plt\n",
    "# from sklearn.decomposition import PCA as sklearnPCA\n",
    "# from sklearn.discriminant_analysis import LinearDiscriminantAnalysis as LDA\n",
    "import scipy\n",
    "import scipy.stats as st\n",
    "import os\n",
    "import sys"
   ]
  },
  {
   "cell_type": "code",
   "execution_count": 2,
   "metadata": {
    "collapsed": false
   },
   "outputs": [
    {
     "name": "stderr",
     "output_type": "stream",
     "text": [
      "/home/satadisha/.local/lib/python3.5/site-packages/IPython/core/interactiveshell.py:2717: DtypeWarning: Columns (1) have mixed types. Specify dtype option on import or set low_memory=False.\n",
      "  interactivity=interactivity, compiler=compiler, result=result)\n"
     ]
    },
    {
     "name": "stdout",
     "output_type": "stream",
     "text": [
      "1035292\n",
      "['ID', 'HashTags', 'Tweet IDs', 'Time', 'TweetText', 'User']\n"
     ]
    }
   ],
   "source": [
    "tweets=pd.read_csv(\"/home/satadisha/Desktop/GitProjects/data/jimJordanKnew.csv\",sep =',')\n",
    "\n",
    "# tweets=pd.read_csv(\"/home/satadisha/Desktop/GitProjects/data/tweets_1million_for_others.csv\",sep =',')\n",
    "tweets=tweets[['ID', 'HashTags', 'Tweet IDs', 'Time', 'TweetText', 'User']]\n",
    "\n",
    "print(len(tweets))\n",
    "tweets['Time'] =  pd.to_datetime(tweets['Time'])\n",
    "tweets = tweets.sort_values(by='Time',ascending=True)\n",
    "tweets=tweets[tweets.Time.notnull()][50000:]\n",
    "\n",
    "print(list(tweets.columns.values))"
   ]
  },
  {
   "cell_type": "code",
   "execution_count": 3,
   "metadata": {
    "collapsed": false
   },
   "outputs": [
    {
     "name": "stdout",
     "output_type": "stream",
     "text": [
      "            ID HashTags     Tweet IDs                Time  \\\n",
      "53420    47978      NaN  8.656300e+17 2017-05-19 13:15:40   \n",
      "6076       637      NaN  8.655933e+17 2017-05-19 13:15:40   \n",
      "91687    86245      NaN  8.656585e+17 2017-05-19 13:15:40   \n",
      "134508  129064      NaN  8.657060e+17 2017-05-19 13:15:40   \n",
      "37187    31745      NaN  8.656151e+17 2017-05-19 13:15:40   \n",
      "151039  145595      NaN  8.657361e+17 2017-05-19 13:15:40   \n",
      "151037  145593      NaN  8.657361e+17 2017-05-19 13:15:40   \n",
      "146744  141300      NaN  8.657272e+17 2017-05-19 13:15:40   \n",
      "121031  115587      NaN  8.656890e+17 2017-05-19 13:15:40   \n",
      "37203    31761      NaN  8.656151e+17 2017-05-19 13:15:40   \n",
      "37206    31764      NaN  8.656151e+17 2017-05-19 13:15:40   \n",
      "7871      2432      NaN  8.655946e+17 2017-05-19 13:15:40   \n",
      "7870      2431      NaN  8.655946e+17 2017-05-19 13:15:40   \n",
      "98178    92736      NaN  8.656644e+17 2017-05-19 13:15:40   \n",
      "109535  104091      NaN  8.656762e+17 2017-05-19 13:15:40   \n",
      "112609  107165      NaN  8.656795e+17 2017-05-19 13:15:40   \n",
      "98164    92722      NaN  8.656644e+17 2017-05-19 13:15:40   \n",
      "61566    56124      NaN  8.656360e+17 2017-05-19 13:15:40   \n",
      "112603  107159      NaN  8.656795e+17 2017-05-19 13:15:40   \n",
      "150998  145554      NaN  8.657360e+17 2017-05-19 13:15:40   \n",
      "109644  104200      NaN  8.656763e+17 2017-05-19 13:15:40   \n",
      "121377  115933      NaN  8.656893e+17 2017-05-19 13:15:40   \n",
      "53121    47679      NaN  8.656297e+17 2017-05-19 13:15:40   \n",
      "140351  134907      NaN  8.657153e+17 2017-05-19 13:15:40   \n",
      "151775  146331      NaN  8.657379e+17 2017-05-19 13:15:40   \n",
      "27050    21608      NaN  8.656074e+17 2017-05-19 13:15:40   \n",
      "151757  146313      NaN  8.657378e+17 2017-05-19 13:15:40   \n",
      "108979  103535      NaN  8.656755e+17 2017-05-19 13:15:40   \n",
      "112814  107370      NaN  8.656797e+17 2017-05-19 13:15:40   \n",
      "62848    57406      NaN  8.656369e+17 2017-05-19 13:15:40   \n",
      "...        ...      ...           ...                 ...   \n",
      "140389  134945      NaN  8.657153e+17 2017-05-19 13:15:40   \n",
      "140388  134944      NaN  8.657153e+17 2017-05-19 13:15:40   \n",
      "99078    93636      NaN  8.656653e+17 2017-05-19 13:15:40   \n",
      "146428  140984      NaN  8.657266e+17 2017-05-19 13:15:40   \n",
      "86683    81241      NaN  8.656544e+17 2017-05-19 13:15:40   \n",
      "146429  140985      NaN  8.657266e+17 2017-05-19 13:15:40   \n",
      "151804  146360      NaN  8.657380e+17 2017-05-19 13:15:40   \n",
      "36039    30597      NaN  8.656145e+17 2017-05-19 13:15:40   \n",
      "62955    57513      NaN  8.656370e+17 2017-05-19 13:15:40   \n",
      "92906    87464      NaN  8.656596e+17 2017-05-19 13:15:40   \n",
      "36047    30605      NaN  8.656145e+17 2017-05-19 13:15:40   \n",
      "121757  116313      NaN  8.656898e+17 2017-05-19 13:15:40   \n",
      "146446  141002      NaN  8.657266e+17 2017-05-19 13:15:40   \n",
      "140357  134913      NaN  8.657153e+17 2017-05-19 13:15:40   \n",
      "43898    38456      NaN  8.656221e+17 2017-05-19 13:15:40   \n",
      "133776  128332      NaN  8.657050e+17 2017-05-19 13:15:40   \n",
      "121625  116181      NaN  8.656896e+17 2017-05-19 13:15:40   \n",
      "98869    93427      NaN  8.656651e+17 2017-05-19 13:15:40   \n",
      "146560  141116      NaN  8.657268e+17 2017-05-19 13:15:40   \n",
      "24653    19211      NaN  8.656059e+17 2017-05-19 13:15:40   \n",
      "140155  134711      NaN  8.657149e+17 2017-05-19 13:15:40   \n",
      "53049    47607      NaN  8.656297e+17 2017-05-19 13:15:40   \n",
      "133942  128498      NaN  8.657052e+17 2017-05-19 13:15:40   \n",
      "36518    31076      NaN  8.656148e+17 2017-05-19 13:15:40   \n",
      "36521    31079      NaN  8.656148e+17 2017-05-19 13:15:40   \n",
      "140150  134706      NaN  8.657149e+17 2017-05-19 13:15:40   \n",
      "11880     6441      NaN  8.655972e+17 2017-05-19 13:15:40   \n",
      "53063    47621      NaN  8.656297e+17 2017-05-19 13:15:40   \n",
      "86459    81017      NaN  8.656543e+17 2017-05-19 13:15:40   \n",
      "36537    31095      NaN  8.656148e+17 2017-05-19 13:15:40   \n",
      "\n",
      "                                                TweetText             User  \n",
      "53420   Don't forget that Hillary's classified emails ...         M_doll32  \n",
      "6076    Don't forget that Hillary's classified emails ...     DLGLIKEABOSS  \n",
      "91687   Don't forget that Hillary's classified emails ...      hollylandes  \n",
      "134508  Don't forget that Hillary's classified emails ...  KarenMBlaisdell  \n",
      "37187   Don't forget that Hillary's classified emails ...      bay_monroe3  \n",
      "151039  Don't forget that Hillary's classified emails ...     ParkHillsPam  \n",
      "151037  Don't forget that Hillary's classified emails ...     NancyKnittle  \n",
      "146744  Don't forget that Hillary's classified emails ...       norvilgirl  \n",
      "121031  Don't forget that Hillary's classified emails ...           jefcra  \n",
      "37203   Don't forget that Hillary's classified emails ...    chenault_mike  \n",
      "37206   Don't forget that Hillary's classified emails ...     plastique_75  \n",
      "7871    Don't forget that Hillary's classified emails ...        kbass0007  \n",
      "7870    Don't forget that Hillary's classified emails ...    KollmanRobert  \n",
      "98178   Don't forget that Hillary's classified emails ...          MamaB_L  \n",
      "109535  Don't forget that Hillary's classified emails ...           popink  \n",
      "112609  Don't forget that Hillary's classified emails ...    mznannalouise  \n",
      "98164   Don't forget that Hillary's classified emails ...        Harry1474  \n",
      "61566   Don't forget that Hillary's classified emails ...     lisamarie633  \n",
      "112603  Don't forget that Hillary's classified emails ...     newbluecomet  \n",
      "150998  Don't forget that Hillary's classified emails ...      DaveWill345  \n",
      "109644  Don't forget that Hillary's classified emails ...          Saphrog  \n",
      "121377  Don't forget that Hillary's classified emails ...    eduardo_zorro  \n",
      "53121   Don't forget that Hillary's classified emails ...           txterp  \n",
      "140351  Don't forget that Hillary's classified emails ...      sydneyluv15  \n",
      "151775  Don't forget that Hillary's classified emails ...       BruzziTown  \n",
      "27050   Don't forget that Hillary's classified emails ...      prada214631  \n",
      "151757  Don't forget that Hillary's classified emails ...           u4eahh  \n",
      "108979  Don't forget that Hillary's classified emails ...        mdpakratt  \n",
      "112814  Don't forget that Hillary's classified emails ...  berniesworld428  \n",
      "62848   Don't forget that Hillary's classified emails ...     stickemgbird  \n",
      "...                                                   ...              ...  \n",
      "140389  Don't forget that Hillary's classified emails ...   SawyerBrittain  \n",
      "140388  Don't forget that Hillary's classified emails ...          2021911  \n",
      "99078   Don't forget that Hillary's classified emails ...     CanadaGirl58  \n",
      "146428  Don't forget that Hillary's classified emails ...  Viking_Engelson  \n",
      "86683   Don't forget that Hillary's classified emails ...    yo111481susan  \n",
      "146429  Don't forget that Hillary's classified emails ...  SandraTrolinger  \n",
      "151804  Don't forget that Hillary's classified emails ...    TonyPhyrillas  \n",
      "36039   Don't forget that Hillary's classified emails ...      Truth_Again  \n",
      "62955   Don't forget that Hillary's classified emails ...         Jambro01  \n",
      "92906   Don't forget that Hillary's classified emails ...      CAVEmanKENT  \n",
      "36047   Don't forget that Hillary's classified emails ...  Lizpadi29898713  \n",
      "121757  Don't forget that Hillary's classified emails ...         henjenca  \n",
      "146446  Don't forget that Hillary's classified emails ...         Meeeedge  \n",
      "140357  Don't forget that Hillary's classified emails ...       MObese2016  \n",
      "43898   Don't forget that Hillary's classified emails ...         max_nunc  \n",
      "133776  Don't forget that Hillary's classified emails ...          rms2297  \n",
      "121625  Don't forget that Hillary's classified emails ...           aebkab  \n",
      "98869   Don't forget that Hillary's classified emails ...           sutker  \n",
      "146560  Don't forget that Hillary's classified emails ...      jwpacheco77  \n",
      "24653   Don't forget that Hillary's classified emails ...  KaliyahMonroe28  \n",
      "140155  Don't forget that Hillary's classified emails ...    Larry11704612  \n",
      "53049   Don't forget that Hillary's classified emails ...    pixiedust5135  \n",
      "133942  Don't forget that Hillary's classified emails ...    SuzSportzDiva  \n",
      "36518   Don't forget that Hillary's classified emails ...     HillaryBGone  \n",
      "36521   Don't forget that Hillary's classified emails ...       MllrMrshll  \n",
      "140150  Don't forget that Hillary's classified emails ...        Glazetron  \n",
      "11880   Don't forget that Hillary's classified emails ...       fletchefwl  \n",
      "53063   Don't forget that Hillary's classified emails ...          amborin  \n",
      "86459   Don't forget that Hillary's classified emails ...            Gia84  \n",
      "36537   Don't forget that Hillary's classified emails ...  SicilianGirl208  \n",
      "\n",
      "[100 rows x 6 columns]\n"
     ]
    }
   ],
   "source": [
    "print(tweets.head(100))"
   ]
  },
  {
   "cell_type": "code",
   "execution_count": 55,
   "metadata": {
    "collapsed": false
   },
   "outputs": [
    {
     "name": "stdout",
     "output_type": "stream",
     "text": [
      "984932 5000\n",
      "[numpy.datetime64('2017-05-19T13:46:06.000000000'), numpy.datetime64('2017-05-19T14:00:50.000000000'), numpy.datetime64('2017-05-19T14:24:24.000000000'), numpy.datetime64('2017-05-19T14:39:53.000000000'), numpy.datetime64('2017-05-19T14:45:11.000000000'), numpy.datetime64('2017-05-19T14:59:42.000000000'), numpy.datetime64('2017-05-19T15:13:46.000000000'), numpy.datetime64('2017-05-19T15:26:44.000000000'), numpy.datetime64('2017-05-19T15:27:57.000000000'), numpy.datetime64('2017-05-19T15:32:53.000000000')]\n",
      "884000000000 nanoseconds\n"
     ]
    }
   ],
   "source": [
    "length=len(tweets)\n",
    "batch_size=5000\n",
    "print(length,batch_size)\n",
    "batch_epoch=[]\n",
    "\n",
    "for g, tweet_batch in tweets.groupby(np.arange(length) //batch_size):\n",
    "\tbatch_epoch.append(tweet_batch['Time'].values[-1])\n",
    "# \tprint(tweet_batch['Time'].values[-1])\n",
    "print(batch_epoch[:10])\n",
    "\n",
    "print(batch_epoch[1]-batch_epoch[0])\n",
    "epoch_diff=[(t - s)/np.timedelta64(1, 's') for s, t in zip(batch_epoch[:-1], batch_epoch[1:])]"
   ]
  },
  {
   "cell_type": "code",
   "execution_count": 56,
   "metadata": {
    "collapsed": false
   },
   "outputs": [
    {
     "name": "stdout",
     "output_type": "stream",
     "text": [
      "197 196\n",
      "884.0\n"
     ]
    }
   ],
   "source": [
    "print(len(batch_epoch),len(epoch_diff))\n",
    "print(epoch_diff[0])"
   ]
  },
  {
   "cell_type": "code",
   "execution_count": 57,
   "metadata": {
    "collapsed": false
   },
   "outputs": [
    {
     "name": "stdout",
     "output_type": "stream",
     "text": [
      "[884.0, 1414.0, 929.0, 318.0, 871.0, 844.0, 778.0, 73.0, 296.0, 340.0, 304.0, 505.0, 182.0, 340.0, 467.0, 376.0, 357.0, 311.0, 218.0, 449.0, 241.0, 334.0, 791.0, 350.0, 104.0, 917.0, 479.0, 466.0, 1001.0, 664.0, 466.0, 217.0, 394.0, 360.0, 629.0, 679.0, 754.0, 693.0, 601.0, 535.0, 585.0, 802.0, 368.0, 650.0, 286.0, 630.0, 799.0, 606.0, 468.0, 748.0, 972.0, 899.0, 736.0, 686.0, 981.0, 1080.0, 1138.0, 1094.0, 1185.0, 1594.0, 1625.0, 1058.0, 965.0, 797.0, 600.0, 658.0, 678.0, 882.0, 381.0, 357.0, 889.0, 955.0, 119.0, 732.0, 645.0, 1372.0, 1091.0, 1458.0, 523.0, 1157.0, 2264.0, 2051.0, 1629.0, 553.0, 650.0, 474.0, 405.0, 371.0, 287.0, 281.0, 221.0, 300.0, 453.0, 546.0, 391.0, 552.0, 505.0, 533.0, 519.0, 516.0, 579.0, 609.0, 719.0, 815.0, 687.0, 642.0, 527.0, 598.0, 452.0, 708.0, 201.0, 0.0, 0.0, 0.0, 148.0, 356.0, 597.0, 528.0, 487.0, 262.0, 350.0, 447.0, 296.0, 370.0, 306.0, 369.0, 469.0, 378.0, 323.0, 252.0, 342.0, 243.0, 355.0, 304.0, 346.0, 289.0, 368.0, 445.0, 1752.0, 2049.0, 1288.0, 1046.0, 1401.0, 1120.0, 1489.0, 870.0, 154.0, 1863.0, 1422.0, 1013.0, 1918.0, 1574.0, 1748.0, 2057.0, 1027.0, 988.0, 1066.0, 1056.0, 708.0, 1434.0, 2000.0, 2272.0, 2938.0, 6340.0, 8614.0, 15013.0, 25689.0, 3692.0, 207.0, 0.0, 683.0, 1211.0, 490.0, 856.0, 1585.0, 1612.0, 769.0, 558.0, 524.0, 725.0, 787.0, 824.0, 656.0, 785.0, 843.0, 782.0, 985.0, 1386.0, 1906.0, 1993.0, 1085.0, 618.0, 744.0, 879.0, 1113.0, 1520.0]\n"
     ]
    }
   ],
   "source": [
    "#inter arrival times\n",
    "print(epoch_diff)"
   ]
  },
  {
   "cell_type": "code",
   "execution_count": 60,
   "metadata": {
    "collapsed": false
   },
   "outputs": [
    {
     "name": "stdout",
     "output_type": "stream",
     "text": [
      "25689.0 0.0\n"
     ]
    }
   ],
   "source": [
    "# import seaborn as sns\n",
    "# width=0.01\n",
    "width=1.0\n",
    "print(max(epoch_diff),min(epoch_diff))\n",
    "bins=int((max(epoch_diff)-min(epoch_diff))/width)\n",
    "\n",
    "# width2=1.0\n",
    "width2=1.0\n",
    "bins2=int((max(epoch_diff)-min(epoch_diff))/width2)\n",
    "\n",
    "# plt.hist(epoch_diff, color = 'blue', edgecolor = 'black', bins = bins)\n",
    "# # sns.distplot(epoch_diff, hist=True, #kde=True, \n",
    "# #              bins=bins, color = 'darkblue', \n",
    "# #              hist_kws={'edgecolor':'black'},\n",
    "# #              kde_kws={'linewidth': 4})\n",
    "\n",
    "# plt.title('Histogram of Inter-Arrival Time between Tweet Batches')\n",
    "# plt.xlabel('Inter-Arrival Time in seconds')\n",
    "# plt.ylabel('Frequency')\n",
    "\n",
    "# plt.show()"
   ]
  },
  {
   "cell_type": "code",
   "execution_count": 46,
   "metadata": {
    "collapsed": false
   },
   "outputs": [
    {
     "data": {
      "image/png": "[encoded data removed]",
      "text/plain": [
       "<Figure size 432x288 with 2 Axes>"
      ]
     },
     "metadata": {},
     "output_type": "display_data"
    }
   ],
   "source": [
    "f, (axl, axr) = plt.subplots(1, 2, sharey=False)\n",
    "\n",
    "# plot the same data on both axes\n",
    "axl.hist(epoch_diff, bins)\n",
    "axr.hist(epoch_diff, bins2)\n",
    "\n",
    "# zoom-in / limit the view to different portions of the data\n",
    "# axl.set_xlim(0.0, 1.0, 0.1) # outliers only\n",
    "# axl.set_ylim(0, 70, 10)\n",
    "axl.set_xlim(0.0, 500.0, 100.0) # outliers only\n",
    "axl.set_ylim(0, 30, 5.0)\n",
    "\n",
    "# axr.set_xlim(1.12, 10.0, 1.0)  # most of the data\n",
    "# axr.set_ylim(0.0, 20.0, 5.0)\n",
    "\n",
    "axr.set_xlim(10000, 26000, 5000)  # most of the data\n",
    "axr.set_ylim(0.0, 3.0, 0.5)\n",
    "\n",
    "\n",
    "# hide the spines between axl and axr\n",
    "axl.spines['right'].set_visible(False)\n",
    "axr.spines['left'].set_visible(False)\n",
    "\n",
    "axl.yaxis.set_ticks_position(\"left\")\n",
    "axl.yaxis.tick_left()\n",
    "\n",
    "\n",
    "axr.yaxis.set_ticks_position(\"right\")\n",
    "axr.yaxis.tick_right()\n",
    "\n",
    "# axl.set_xlabel('Inter-Arrival Time in seconds')\n",
    "axl.set_ylabel('Frequency')\n",
    "axr.set_ylabel('Frequency')\n",
    "axr.yaxis.set_label_position(\"right\")\n",
    "# How much space to leave between plots\n",
    "plt.subplots_adjust(wspace=0.15)\n",
    "plt.xlabel('Inter-Arrival Time in seconds')\n",
    "plt.title('Histogram of Inter-Arrival Time between Tweet Batches')\n",
    "\n",
    "\n",
    "plt.show()"
   ]
  },
  {
   "cell_type": "code",
   "execution_count": 36,
   "metadata": {
    "collapsed": false
   },
   "outputs": [
    {
     "data": {
      "text/plain": [
       "[(0.201, 0.302], (0.302, 0.402], (0.201, 0.302], (-0.00714, 0.101], (0.201, 0.302], ..., (0.101, 0.201], (0.201, 0.302], (0.201, 0.302], (0.302, 0.402], (0.402, 0.503]]\n",
       "Length: 196\n",
       "Categories (71, object): [(-0.00714, 0.101] < (0.101, 0.201] < (0.201, 0.302] < (0.302, 0.402] ... (6.734, 6.834] < (6.834, 6.935] < (6.935, 7.0353] < (7.0353, 7.136]]"
      ]
     },
     "execution_count": 36,
     "metadata": {},
     "output_type": "execute_result"
    }
   ],
   "source": [
    "pd.cut(np.array(epoch_diff), bins)"
   ]
  },
  {
   "cell_type": "code",
   "execution_count": 61,
   "metadata": {
    "collapsed": false
   },
   "outputs": [
    {
     "name": "stdout",
     "output_type": "stream",
     "text": [
      "[4 0 0 0 0 0 0 0 0 0 0 0 0 0 0 0 0 0 0 0 0 0 0 0 0 0 0 0 0 0 0 0 0 0 0 0 0\n",
      " 0 0 0 0 0 0 0 0 0 0 0 0 0 0 0 0 0 0 0 0 0 0 0 0 0 0 0 0 0 0 0 0 0 0 0 0 1\n",
      " 0 0 0 0 0 0 0 0 0 0 0 0 0 0 0 0 0 0 0 0 0 0 0 0 0 0 0 0 0 0 1 0 0 0 0 0 0\n",
      " 0 0 0 0 0 0 0 0 1 0 0 0 0 0 0 0 0 0 0 0 0 0 0 0 0 0 0 0 0 0 0 0 0 0 0 0 0\n",
      " 1 0]\n",
      "[0 0 0 0 1 0 0 0 0 0 0 0 0 0 0 0 0 0 0 0 0 0 0 0 0 0 0 0 0 0 0 0 1 0 0 0 0\n",
      " 0 0 0 0 0 0 0 0 0 0 0 0 0 0 1 0 0 0 0 0 1 0 0 0 0 0 0 0 0 0 1 1 0 0 1 0 0\n",
      " 0 0 0 0 0 0 0 0 0 0 0 0 0 0 0 0 0 1 0 1 0 0 0 0 0 0]\n"
     ]
    }
   ],
   "source": [
    "hist, bins = np.histogram(epoch_diff, bins)\n",
    "print(hist[:150])\n",
    "print(hist[150:250])\n",
    "# print(bins)"
   ]
  },
  {
   "cell_type": "code",
   "execution_count": 42,
   "metadata": {
    "collapsed": false
   },
   "outputs": [],
   "source": [
    "# hist2, bins2 = np.histogram(epoch_diff, bins2)\n",
    "# print(hist2)\n",
    "# print(bins2)"
   ]
  },
  {
   "cell_type": "code",
   "execution_count": 63,
   "metadata": {
    "collapsed": false
   },
   "outputs": [
    {
     "name": "stdout",
     "output_type": "stream",
     "text": [
      "25689.0 0.0\n",
      "[4 0 0 ... 0 0 1]\n",
      "[4 0 0 0 0 0 0 0 0 0 0 0 0 0 0 0 0 0 0 0 0 0 0 0 0 0 0 0 0 0 0 0 0 0 0 0 0\n",
      " 0 0 0 0 0 0 0 0 0 0 0 0 0 0 0 0 0 0 0 0 0 0 0 0 0 0 0 0 0 0 0 0 0 0 0 0 1\n",
      " 0 0 0 0 0 0 0 0 0 0 0 0 0 0 0 0 0 0 0 0 0 0 0 0 0 0 0 0 0 0 1 0 0 0 0 0 0\n",
      " 0 0 0 0 0 0 0 0 1 0 0 0 0 0 0 0 0 0 0 0 0 0 0 0 0 0 0 0 0 0 0 0 0 0 0 0 0\n",
      " 1 0]\n",
      "[0 0 0 0 1 0 0 0 0 0 0 0 0 0 0 0 0 0 0 0 0 0 0 0 0 0 0 0 0 0 0 0 1 0 0 0 0\n",
      " 0 0 0 0 0 0 0 0 0 0 0 0 0 0 1 0 0 0 0 0 1 0 0 0 0 0 0 0 0 0 1 1 0 0 1 0 0\n",
      " 0 0 0 0 0 0 0 0 0 0 0 0 0 0 0 0 0 1 0 1 0 0 0 0 0 0]\n"
     ]
    }
   ],
   "source": [
    "# width=100.0\n",
    "# width=0.01\n",
    "width=1.0\n",
    "print(max(epoch_diff),min(epoch_diff))\n",
    "bins3=int((max(epoch_diff)-min(epoch_diff))/width)\n",
    "\n",
    "hist3, bins3 = np.histogram(epoch_diff, bins3)\n",
    "print(hist3)\n",
    "# print(bins3)\n",
    "print(hist[:150])\n",
    "print(hist[150:250])"
   ]
  },
  {
   "cell_type": "code",
   "execution_count": 64,
   "metadata": {
    "collapsed": false
   },
   "outputs": [],
   "source": [
    "# cumulative_freq=[sum(hist[:(i+1)]) for i in range(len(hist))]\n",
    "# print(cumulative_freq)"
   ]
  },
  {
   "cell_type": "code",
   "execution_count": 65,
   "metadata": {
    "collapsed": false
   },
   "outputs": [],
   "source": [
    "# cumProb=[elem/cumulative_freq[-1] for elem in cumulative_freq]\n",
    "# print(cumProb)"
   ]
  },
  {
   "cell_type": "code",
   "execution_count": 66,
   "metadata": {
    "collapsed": false
   },
   "outputs": [
    {
     "name": "stdout",
     "output_type": "stream",
     "text": [
      "(0.0, 1043.75)\n"
     ]
    }
   ],
   "source": [
    "dist = st.expon\n",
    "param = dist.fit(epoch_diff)\n",
    "\n",
    "#loc, scale=1/lambda\n",
    "print(param)"
   ]
  },
  {
   "cell_type": "code",
   "execution_count": 67,
   "metadata": {
    "collapsed": false
   },
   "outputs": [
    {
     "data": {
      "text/plain": [
       "KstestResult(statistic=0.14808505322300303, pvalue=0.00032393722758995773)"
      ]
     },
     "execution_count": 67,
     "metadata": {},
     "output_type": "execute_result"
    }
   ],
   "source": [
    "st.kstest(epoch_diff, dist.cdf, param)"
   ]
  },
  {
   "cell_type": "code",
   "execution_count": 68,
   "metadata": {
    "collapsed": false
   },
   "outputs": [
    {
     "name": "stdout",
     "output_type": "stream",
     "text": [
      "[2.87425150e+01 2.87149904e+01 2.86874922e+01 ... 4.37944903e-10\n",
      " 4.37525516e-10 4.37106531e-10]\n"
     ]
    }
   ],
   "source": [
    "# size = 30000\n",
    "# x=scipy.arange(start=0.0, stop=8.0, step=0.01)\n",
    "x=scipy.arange(start=0.0, stop=26000.0, step=1.0)\n",
    "pdf_fitted = dist.pdf(x, *param[:-2], loc=param[-2], scale=param[-1]) * size\n",
    "print(pdf_fitted)"
   ]
  },
  {
   "cell_type": "code",
   "execution_count": 69,
   "metadata": {
    "collapsed": false
   },
   "outputs": [
    {
     "data": {
      "image/png": "[encoded data removed]",
      "text/plain": [
       "<Figure size 432x288 with 2 Axes>"
      ]
     },
     "metadata": {},
     "output_type": "display_data"
    }
   ],
   "source": [
    "f, (axl, axr) = plt.subplots(1, 2, sharey=False)\n",
    "\n",
    "# plot the same data on both axes\n",
    "axl.hist(epoch_diff, bins)\n",
    "axl.plot(pdf_fitted,label='fitted')\n",
    "\n",
    "axr.hist(epoch_diff, bins2)\n",
    "axr.plot(pdf_fitted,label='fitted')\n",
    "# zoom-in / limit the view to different portions of the data\n",
    "# axl.set_xlim(0.0, 1.0, 0.1) # outliers only\n",
    "# axl.set_ylim(0.0, 15.0, 1.0)\n",
    "\n",
    "axl.set_xlim(0.0, 10.0, 1.0) # outliers only\n",
    "axl.set_ylim(0, 30, 3.0)\n",
    "\n",
    "# axr.set_xlim(1.12, 10.0, 1.0)  # most of the data\n",
    "# axr.set_ylim(0.0, 15.0, 1.0)\n",
    "\n",
    "axr.set_xlim(25680, 25690, 1.0)  # most of the data\n",
    "axr.set_ylim(0, 30, 3.0)\n",
    "\n",
    "\n",
    "# hide the spines between axl and axr\n",
    "axl.spines['right'].set_visible(False)\n",
    "axr.spines['left'].set_visible(False)\n",
    "\n",
    "axl.yaxis.set_ticks_position(\"left\")\n",
    "axl.yaxis.tick_left()\n",
    "\n",
    "\n",
    "axr.yaxis.set_ticks_position(\"right\")\n",
    "axr.yaxis.tick_right()\n",
    "\n",
    "# axl.set_xlabel('Inter-Arrival Time in seconds')\n",
    "axl.set_ylabel('Frequency')\n",
    "axr.set_ylabel('Frequency')\n",
    "axr.yaxis.set_label_position(\"right\")\n",
    "# How much space to leave between plots\n",
    "plt.subplots_adjust(wspace=0.15)\n",
    "plt.xlabel('Inter-Arrival Time in seconds')\n",
    "plt.title('Histogram of Inter-Arrival Time between Tweet Batches')\n",
    "\n",
    "\n",
    "plt.show()"
   ]
  },
  {
   "cell_type": "code",
   "execution_count": null,
   "metadata": {
    "collapsed": true
   },
   "outputs": [],
   "source": []
  }
 ],
 "metadata": {
  "kernelspec": {
   "display_name": "Python 3",
   "language": "python",
   "name": "python3"
  },
  "language_info": {
   "codemirror_mode": {
    "name": "ipython",
    "version": 3
   },
   "file_extension": ".py",
   "mimetype": "text/x-python",
   "name": "python",
   "nbconvert_exporter": "python",
   "pygments_lexer": "ipython3",
   "version": "3.5.2"
  }
 },
 "nbformat": 4,
 "nbformat_minor": 1
}
